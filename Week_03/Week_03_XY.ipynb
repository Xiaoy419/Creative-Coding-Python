{
 "cells": [
  {
   "cell_type": "code",
   "execution_count": 39,
   "id": "453e440e",
   "metadata": {},
   "outputs": [],
   "source": [
    "def printPoem(x = 'To whom to tell the'): \n",
    "    a = \"The Path\"\n",
    "    b = \"Is it\"\n",
    "    c = \"the lost\"\n",
    "    d = 35\n",
    "    \n",
    "    print(a.title())\n",
    "    print('\\n')\n",
    "    if d > 10:\n",
    "      print(\"A little rain with a warm breeze,\")\n",
    "    if d > 20:\n",
    "        print(\"Not afraid of the long way to get to the end.\")\n",
    "        print('\\n')\n",
    "        \n",
    "        print('They say difficulties and obstacles,')\n",
    "        print(f'Are just part of {c} journey of life.')\n",
    "        print('\\n')\n",
    "        print(f'{x} laugh; {x} wound?')\n",
    "        print(f'{b} possible? {b} worth it?')\n",
    "        print('\\n')\n",
    "        \n",
    "        Line_08=['ssssssssssss','At','the','moment','of','looking']\n",
    "        Line_08.pop(0)\n",
    "        Line_08.append('back,')\n",
    "        Line_8=' '.join(Line_08)\n",
    "        print(Line_8)\n",
    "        print(f'All the stars are guiding {c}.')\n",
    "    \n",
    "        Line_10='Acroxx the great river '\n",
    "        Line_10+='of xilence,'\n",
    "        print(Line_10.replace('x','s'))\n",
    "        Line_11='         To find your guiding star.'\n",
    "        print(Line_11[:35].lstrip())"
   ]
  },
  {
   "cell_type": "code",
   "execution_count": 40,
   "id": "6494c7a3",
   "metadata": {},
   "outputs": [
    {
     "name": "stdout",
     "output_type": "stream",
     "text": [
      "The Path\n",
      "\n",
      "\n",
      "A little rain with a warm breeze,\n",
      "Not afraid of the long way to get to the end.\n",
      "\n",
      "\n",
      "They say difficulties and obstacles,\n",
      "Are just part of the lost journey of life.\n",
      "\n",
      "\n",
      "To whom to tell the laugh; To whom to tell the wound?\n",
      "Is it possible? Is it worth it?\n",
      "\n",
      "\n",
      "At the moment of looking back,\n",
      "All the stars are guiding the lost.\n",
      "Across the great river of silence,\n",
      "To find your guiding star.\n"
     ]
    }
   ],
   "source": [
    "printPoem('To whom to tell the')"
   ]
  }
 ],
 "metadata": {
  "kernelspec": {
   "display_name": "Python 3",
   "language": "python",
   "name": "python3"
  },
  "language_info": {
   "codemirror_mode": {
    "name": "ipython",
    "version": 3
   },
   "file_extension": ".py",
   "mimetype": "text/x-python",
   "name": "python",
   "nbconvert_exporter": "python",
   "pygments_lexer": "ipython3",
   "version": "3.8.8"
  }
 },
 "nbformat": 4,
 "nbformat_minor": 5
}
