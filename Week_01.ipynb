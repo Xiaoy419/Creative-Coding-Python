{
 "cells": [
  {
   "cell_type": "code",
   "execution_count": null,
   "id": "dfd622b5",
   "metadata": {},
   "outputs": [],
   "source": [
    "Poem I\n",
    "\n",
    "The Path\n",
    "\n",
    "A little rain with a warm breeze\n",
    "Not afraid of the long way to get to the end\n",
    "\n",
    "They say difficulties and obstacles\n",
    "Are just part of the lost journey of life\n",
    "\n",
    "To whom to tell the laugh, to whom to tell the wound\n",
    "Is it possible? Is it worth it?\n",
    "\n",
    "At the moment of looking back\n",
    "All the stars are guiding the lost\n",
    "Across the great river of silence\n",
    "To find your guiding star"
   ]
  },
  {
   "cell_type": "code",
   "execution_count": null,
   "id": "2e731de6",
   "metadata": {},
   "outputs": [],
   "source": [
    "a = \"The Path\"\n",
    "b = \"To whom to tell the\"\n",
    "c = \"Is it\"\n",
    "d = \"the lost\"\n",
    "\n",
    "print(a.upper())\n",
    "print('\\n')\n",
    "print('A little rain with a warm breeze')\n",
    "print('Not afraid of the long way to get to the end')\n",
    "print('\\n')\n",
    "print('They say difficulties and obstacles')\n",
    "print(f'Are just part of {d} journey of life')\n",
    "print('\\n')\n",
    "print(f'{b} laugh, {b} wound')\n",
    "print(f'{c} possible? {c} worth it?')\n",
    "print('\\n')\n",
    "print('At the moment of looking back')\n",
    "print(f'All the stars are guiding {d}')\n",
    "print('Across the great river of silence')\n",
    "print('To find your guiding star')"
   ]
  }
 ],
 "metadata": {
  "kernelspec": {
   "display_name": "Python 3",
   "language": "python",
   "name": "python3"
  },
  "language_info": {
   "codemirror_mode": {
    "name": "ipython",
    "version": 3
   },
   "file_extension": ".py",
   "mimetype": "text/x-python",
   "name": "python",
   "nbconvert_exporter": "python",
   "pygments_lexer": "ipython3",
   "version": "3.8.8"
  }
 },
 "nbformat": 4,
 "nbformat_minor": 5
}
