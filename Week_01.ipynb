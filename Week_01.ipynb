{
 "cells": [
  {
   "cell_type": "code",
   "execution_count": null,
   "id": "b45712cc",
   "metadata": {},
   "outputs": [],
   "source": [
    "Poem I\n",
    "\n",
    "The Path\n",
    "A little rain with a warm breeze\n",
    "Not afraid of the long way to get to the end\n",
    "They say difficulties and obstacles\n",
    "Are just part of the lost journey of life\n",
    "To whom to tell the laugh, to whom to tell the wound\n",
    "Is it possible? Is it worth it?\n",
    "At the moment of looking back\n",
    "All the stars are guiding the lost\n",
    "Across the great river of silence\n",
    "To find your guiding star"
   ]
  },
  {
   "cell_type": "code",
   "execution_count": null,
   "id": "d6a9f905",
   "metadata": {},
   "outputs": [],
   "source": []
  }
 ],
 "metadata": {
  "kernelspec": {
   "display_name": "Python 3",
   "language": "python",
   "name": "python3"
  },
  "language_info": {
   "codemirror_mode": {
    "name": "ipython",
    "version": 3
   },
   "file_extension": ".py",
   "mimetype": "text/x-python",
   "name": "python",
   "nbconvert_exporter": "python",
   "pygments_lexer": "ipython3",
   "version": "3.8.8"
  }
 },
 "nbformat": 4,
 "nbformat_minor": 5
}
