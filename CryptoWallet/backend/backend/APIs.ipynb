{
 "cells": [
  {
   "cell_type": "code",
   "execution_count": 82,
   "id": "dc3011d3",
   "metadata": {},
   "outputs": [],
   "source": [
    "import urllib\n",
    "urlB = \"https://data.messari.io/api/v1/assets/btc/metrics\""
   ]
  },
  {
   "cell_type": "code",
   "execution_count": 83,
   "id": "bc49ac76",
   "metadata": {},
   "outputs": [
    {
     "name": "stdout",
     "output_type": "stream",
     "text": [
      "<http.client.HTTPResponse object at 0x103c397c0>\n"
     ]
    }
   ],
   "source": [
    "print(urllib.request.urlopen(urlB))"
   ]
  },
  {
   "cell_type": "code",
   "execution_count": 84,
   "id": "20db569e",
   "metadata": {},
   "outputs": [
    {
     "data": {
      "text/plain": [
       "b'{\"status\":{\"elapsed\":4,\"timestamp\":\"2021-07-14T12:32:25.635998634Z\"},\"data\":{\"id\":\"1e31218a-e44e-4285-820c-8282ee222035\",\"symbol\":\"BTC\",\"name\":\"Bitcoin\",\"slug\":\"bitcoin\",\"contract_addresses\":[],\"_internal_temp_agora_id\":\"9793eae6-f374-46b4-8764-c2d224429791\",\"market_data\":{\"price_usd\":32432.699149731663,\"price_btc\":1,\"price_eth\":16.669284933060773,\"volume_last_24_hours\":22165088151.479584,\"real_volume_last_24_hours\":4228486255.9314733,\"volume_last_24_hours_overstatement_multiple\":5.241849401872288,\"percent_change_usd_last_1_hour\":-0.1188318574561617,\"percent_change_btc_last_1_hour\":0,\"percent_change_eth_last_1_hour\":-0.2955931775780204,\"percent_change_usd_last_24_hours\":-0.43381960297205063,\"percent_change_btc_last_24_hours\":0,\"percent_change_eth_last_24_hours\":1.4241418168232833,\"ohlcv_last_1_hour\":{\"open\":32508.679801251077,\"high\":32548.16138850555,\"low\":32323.930082486204,\"close\":32438.333007763227,\"volume\":129663638.67542742},\"ohlcv_last_24_hour\":{\"open\":33036.32206565221,\"high\":33047.94335881885,\"low\":31578.183235157383,\"close\":32432.69914973166,\"volume\":4236331991.945969},\"last_trade_at\":\"2021-07-14T12:32:24.281Z\"},\"marketcap\":{\"rank\":1,\"marketcap_dominance_percent\":45.50255042755606,\"current_marketcap_usd\":607856273769.8115,\"y_2050_marketcap_usd\":679902333669.396,\"y_plus10_marketcap_usd\":668247710145.5197,\"liquid_marketcap_usd\":608014206204.5817,\"volume_turnover_last_24_hours_percent\":0.6954584634341081,\"realized_marketcap_usd\":362512311426.037,\"outstanding_marketcap_usd\":612214949439.348},\"supply\":{\"y_2050\":20986335.65,\"y_plus10\":20626595.98,\"liquid\":18767386.99,\"circulating\":18762512.13824266,\"y_2050_issued_percent\":89.42669793809382,\"annual_inflation_percent\":1.7911614450062716,\"stock_to_flow\":55.82969657972392,\"y_plus10_issued_percent\":90.98635086563614,\"supply_revived_90d\":18755450.04292919},\"blockchain_stats_24_hours\":{\"count_of_active_addresses\":807050,\"transaction_volume\":11744662593.199848,\"adjusted_transaction_volume\":5878596329.880999,\"adjusted_nvt\":104.14304964732,\"median_tx_value\":163.22407906462755,\"median_tx_fee\":9.170221805443465,\"count_of_tx\":227411,\"count_of_payments\":644313,\"new_issuance\":27745679.566864364,\"average_difficulty\":14363025673659.96,\"kilobytes_added\":203139.207,\"count_of_blocks_added\":136},\"market_data_liquidity\":{\"clearing_prices_to_sell\":null,\"marketcap\":null,\"asset_bid_depth\":null,\"usd_bid_depth\":null,\"updated_at\":\"0001-01-01T00:00:00Z\"},\"all_time_high\":{\"price\":64654.1484598988,\"at\":\"2021-04-14T06:00:00Z\",\"days_since\":91,\"percent_down\":49.79165806860537,\"breakeven_multiple\":1.9917009037390916},\"cycle_low\":{\"price\":29249.24325054555,\"at\":\"2021-06-22T13:00:00Z\",\"percent_up\":10.983301870457908,\"days_since\":21},\"token_sale_stats\":{\"sale_proceeds_usd\":null,\"sale_start_date\":null,\"sale_end_date\":null,\"roi_since_sale_usd_percent\":null,\"roi_since_sale_btc_percent\":null,\"roi_since_sale_eth_percent\":null},\"staking_stats\":{\"staking_yield_percent\":null,\"staking_type\":null,\"staking_minimum\":null,\"tokens_staked\":null,\"tokens_staked_percent\":null,\"real_staking_yield_percent\":null},\"mining_stats\":{\"mining_algo\":\"SHA-256\",\"network_hash_rate\":\"108607 PH/s\",\"available_on_nicehash_percent\":0.26301652701834854,\"1_hour_attack_cost\":null,\"24_hours_attack_cost\":null,\"attack_appeal\":null,\"hash_rate\":97102623.07819687,\"hash_rate_30d_average\":99700141.0277796,\"mining_revenue_per_hash_usd\":0.000003429721,\"mining_revenue_per_hash_native_units\":1.05e-10,\"mining_revenue_per_hash_per_second_usd\":0.29632785546,\"mining_revenue_per_hash_per_second_native_units\":0.000009078122,\"mining_revenue_from_fees_percent_last_24_hours\":3.5744940205,\"mining_revenue_native\":881.50950453,\"mining_revenue_usd\":28851331.730639104,\"mining_revenue_total\":29685916404.86818,\"average_difficulty\":14363025673659.96},\"developer_activity\":{\"stars\":55596,\"watchers\":3827,\"commits_last_3_months\":313,\"commits_last_1_year\":1131,\"lines_added_last_3_months\":15804,\"lines_added_last_1_year\":67485,\"lines_deleted_last_3_months\":7587,\"lines_deleted_last_1_year\":30124},\"roi_data\":{\"percent_change_last_1_week\":-4.080966884771038,\"percent_change_last_1_month\":-20.863325059137296,\"percent_change_last_3_months\":-48.60803987268525,\"percent_change_last_1_year\":250.85441011868159,\"percent_change_btc_last_1_week\":0,\"percent_change_btc_last_1_month\":0,\"percent_change_btc_last_3_months\":0,\"percent_change_btc_last_1_year\":0,\"percent_change_eth_last_1_week\":14.10131851502712,\"percent_change_eth_last_1_month\":5.276494104285712,\"percent_change_eth_last_3_months\":-33.58878411599778,\"percent_change_eth_last_1_year\":-56.660562342192655,\"percent_change_month_to_date\":-3.0650538309169506,\"percent_change_quarter_to_date\":-3.0650538309169506,\"percent_change_year_to_date\":10.5344262389593},\"roi_by_year\":{\"2020_usd_percent\":301.45619677746635,\"2019_usd_percent\":83.83497240467483,\"2018_usd_percent\":-72.35180629416075,\"2017_usd_percent\":1293.9968257264447,\"2016_usd_percent\":122.23036668622065,\"2015_usd_percent\":36.81278481514266,\"2014_usd_percent\":-57.34726933565019,\"2013_usd_percent\":5394.285470792129,\"2012_usd_percent\":156.47080487351116,\"2011_usd_percent\":1474.0066666666667},\"risk_metrics\":{\"sharpe_ratios\":{\"last_30_days\":-1.7048792332200071,\"last_90_days\":-2.1408074534437436,\"last_1_year\":1.935103974184892,\"last_3_years\":0.7865137510308042},\"volatility_stats\":{\"volatility_last_30_days\":0.7703713040654303,\"volatility_last_90_days\":0.9454056259130462,\"volatility_last_1_year\":0.7821540563348016,\"volatility_last_3_years\":0.7622128792928582}},\"misc_data\":{\"private_market_price_usd\":null,\"vladimir_club_cost\":112521942.62648736,\"btc_current_normalized_supply_price_usd\":53624.02235180804,\"btc_y2050_normalized_supply_price_usd\":53624.02235180803,\"asset_created_at\":\"2009-01-03\",\"asset_age_days\":4573,\"categories\":[\"Payments\"],\"sectors\":[\"Currencies\"],\"tags\":null},\"lend_rates\":{\"bitfinex\":2.1094999999999997,\"blockfi\":3.2,\"celsius\":4.41,\"coinlist\":2.92,\"cryptocom\":6,\"poloniex\":0.6139300000000001},\"borrow_rates\":{\"coinlist\":3.65},\"loan_data\":{\"originated_last_24_hours_usd\":null,\"outstanding_debt_usd\":null,\"repaid_last_24_hours_usd\":null,\"collateralized_last_24_hours_usd\":null,\"collateral_liquidated_last_24_hours_usd\":null},\"reddit\":{\"active_user_count\":7126,\"subscribers\":3170638},\"on_chain_data\":{\"addresses_count\":38042068,\"active_addresses\":807050,\"active_addresses_received_count\":533851,\"active_addresses_sent_count\":527481,\"addresses_balance_greater_0_001_native_units_count\":18655695,\"addresses_balance_greater_0_01_native_units_count\":8992889,\"addresses_balance_greater_0_1_native_units_count\":3172136,\"addresses_balance_greater_1_usd_count\":32038211,\"addresses_balance_greater_1_native_units_count\":799205,\"addresses_balance_greater_10_usd_count\":23340577,\"addresses_balance_greater_10_native_units_count\":146894,\"addresses_balance_greater_100_usd_count\":13715198,\"addresses_balance_greater_100_native_units_count\":16060,\"addresses_balance_greater_100k_usd_count\":313321,\"addresses_balance_greater_100k_native_units_count\":4,\"addresses_balance_greater_10k_usd_count\":1651844,\"addresses_balance_greater_10k_native_units_count\":85,\"addresses_balance_greater_10m_usd_count\":6137,\"addresses_balance_greater_1k_usd_count\":5429454,\"addresses_balance_greater_1k_native_units_count\":2150,\"addresses_balance_greater_1m_usd_count\":75480,\"addresses_balance_greater_1m_native_units_count\":0,\"average_block_gas_limit\":null,\"block_height\":690904,\"average_block_interval\":624.22222222,\"blocks_added_last_24_hours\":136,\"block_size_bytes_total\":156804872,\"block_size_bytes_average\":1152977,\"uncle_blocks_count_last_24_hours\":null,\"uncle_rewards_last_24_hours_usd\":null,\"uncle_rewards_last_24_hours_native_units\":null,\"mining_revenue_from_uncle_blocks_percent_last_24_hours\":null,\"block_weight\":437047682,\"average_block_weight\":3213585.89705882,\"total_fees_last_24_hours\":31.50950453,\"total_fees_last_24_hours_usd\":1028532.4894118131,\"hash_rate\":97102623.07819687,\"issuance_last_24_hours_native_units\":850,\"issuance_rate_daily\":0.004532016,\"issuance_total_usd\":27745679.566864364,\"issuance_total_native_units\":850,\"new_issuance\":27745679.566864364,\"issuance_rate\":1.65418584,\"realized_marketcap_usd\":362512311426.037,\"adjusted_nvt\":104.14304964732,\"adjusted_nvt_90d_moving_average\":53.36834012075274,\"adjusted_rvt\":61.6664746282,\"adjusted_rvt_90d_moving_average\":31.601123677006274,\"txn_count_last_24_hours\":227411,\"txn_contracts_calls_count_last_24_hours\":null,\"txn_contracts_calls_success_count_last_24_hours\":null,\"txn_contracts_creation_count_last_24_hours\":null,\"txn_contracts_destruction_count_last_24_hours\":null,\"txn_contracts_count_last_24_hours\":null,\"txn_erc20_count_last_24_hours\":null,\"txn_erc721_count_last_24_hours\":null,\"txn_per_second_count\":2.632071759259,\"txn_token_count_last_24_hours\":null,\"average_fee_usd\":4.522872189158502,\"average_fee_native_units\":0.00013856,\"median_fee_usd\":9.170221805443465,\"median_fee_native_units\":0.00003864,\"average_txn_gas_used\":null,\"txn_gas_limit_last_24_hours\":null,\"average_txn_gas_limit\":null,\"txn_gas_used_last_24_hours\":null,\"transfer_count_last_24_hours\":644313,\"transfer_erc_20_count_last_24_hours\":null,\"transfer_erc721_count_last_24_hours\":null,\"txn_volume_last_24_hours_usd\":11744662593.199848,\"adjusted_txn_volume_last_24_hours_usd\":5878596329.880999,\"adjusted_txn_volume_last_24_hours_native_units\":180093.15174123,\"txn_volume_last_24_hours_native_units\":359802.4398776,\"average_transfer_value_usd\":18228.1943608243,\"average_transfer_value_native_units\":0.558428030907,\"median_transfer_value_usd\":163.22407906462755,\"median_transfer_value_native_units\":0.005000435,\"average_utxo_age\":1044.86255752,\"value_weighted_average_utxo_age\":1157.28986848,\"median_utxo_age\":801,\"utxo_count_last_24_hours\":74902608,\"utxo_in_loss_count\":17159056,\"utxo_in_profit_count\":57743552},\"exchange_flows\":{\"flow_in_exchange_native_units\":22349.51575069,\"flow_in_exchange_usd\":729532355.8743916,\"flow_in_exchange_native_units_inclusive\":25997.99574177,\"flow_in_exchange_usd_inclusive\":848625952.0374761,\"flow_out_exchange_native_units\":23038.52654319,\"flow_out_exchange_usd\":752023029.6000577,\"flow_out_exchange_native_units_inclusive\":26687.00653427,\"flow_out_exchange_usd_inclusive\":871116625.7631422,\"flow_in_binance_usd\":302874913.1712837,\"flow_in_binance_native_units\":9278.69420445,\"flow_in_bitfinex_usd\":12635179.084882757,\"flow_in_bitfinex_native_units\":387.08376907,\"flow_in_bitmex_usd\":4485260.544822606,\"flow_in_bitmex_native_units\":137.40775222,\"flow_in_bitstamp_usd\":58014694.62778126,\"flow_in_bitstamp_native_units\":1777.30339294,\"flow_in_bittrex_usd\":148549349.4689818,\"flow_in_bittrex_native_units\":4550.86878461,\"flow_in_gemini_usd\":34192360.03049041,\"flow_in_gemini_native_units\":1047.49663658,\"flow_in_huobi_usd\":74317861.62228218,\"flow_in_huobi_native_units\":2276.7574399,\"flow_in_kraken_usd\":185678147.81470388,\"flow_in_kraken_native_units\":5688.32438442,\"flow_in_poloniex_usd\":3250465.7105724327,\"flow_in_poloniex_native_units\":99.57931819,\"flow_net_binance_usd\":29199807.031183008,\"flow_net_binance_native_units\":894.54777695,\"flow_net_bitfinex_usd\":-17025365.58425758,\"flow_net_bitfinex_native_units\":-521.57888985,\"flow_net_bitmex_usd\":-36057814.30459369,\"flow_net_bitmex_native_units\":-1104.645575,\"flow_net_bitstamp_usd\":31215575.536064748,\"flow_net_bitstamp_native_units\":956.301652,\"flow_net_bittrex_usd\":2925030.545898485,\"flow_net_bittrex_native_units\":89.60948165,\"flow_net_gemini_usd\":-35279761.01264617,\"flow_net_gemini_native_units\":-1080.80960095,\"flow_net_huobi_usd\":-11577035.373118646,\"flow_net_huobi_native_units\":-354.66711289,\"flow_net_kraken_usd\":38130284.43711039,\"flow_net_kraken_native_units\":1168.13652711,\"flow_net_poloniex_usd\":458073.3453672928,\"flow_net_poloniex_native_units\":14.0332603,\"flow_out_binance_usd\":275352537.66390693,\"flow_out_binance_native_units\":8435.5352137,\"flow_out_bitfinex_usd\":29660544.66914034,\"flow_out_bitfinex_native_units\":908.66265892,\"flow_out_bitmex_usd\":40543074.8494163,\"flow_out_bitmex_native_units\":1242.05332722,\"flow_out_bitstamp_usd\":32588840.715702605,\"flow_out_bitstamp_native_units\":998.37218049,\"flow_out_bittrex_usd\":146559981.02423313,\"flow_out_bittrex_native_units\":4489.92368597,\"flow_out_gemini_usd\":73141001.66085507,\"flow_out_gemini_native_units\":2240.70386389,\"flow_out_huobi_usd\":85922423.31174947,\"flow_out_huobi_native_units\":2632.26783251,\"flow_out_kraken_usd\":162062398.5869191,\"flow_out_kraken_native_units\":4964.84645355,\"flow_out_poloniex_usd\":3036178.72470999,\"flow_out_poloniex_native_units\":93.0145506,\"supply_exchange_native_units\":1661958.24121173,\"supply_exchange_usd\":54394998911.820915,\"supply_binance_usd\":18465058792.64271,\"supply_binance_native_units\":565684.46759151,\"supply_bitfinex_usd\":6169759023.624767,\"supply_bitfinex_native_units\":189013.03741517,\"supply_bitmex_usd\":3564811765.5404916,\"supply_bitmex_native_units\":109209.43541524,\"supply_bitstamp_usd\":1446066920.2533274,\"supply_bitstamp_native_units\":44300.83895596,\"supply_bittrex_usd\":3843815536.0843763,\"supply_bittrex_native_units\":117756.82760979,\"supply_gemini_usd\":8556082847.291698,\"supply_gemini_native_units\":262119.02298776,\"supply_huobi_usd\":4757759553.743395,\"supply_huobi_native_units\":145755.8684384,\"supply_kraken_usd\":5227197604.903736,\"supply_kraken_native_units\":160137.29104961,\"supply_poloniex_usd\":931612525.326617,\"supply_poloniex_native_units\":28540.32263363},\"miner_flows\":{\"supply_1hop_miners_usd\":91310041442.61288,\"supply_1hop_miners_native_units\":2797319.67058799,\"supply_miners_usd\":58558051713.99748,\"supply_miners_native_units\":1793949.3547796},\"supply_activity\":{\"supply_active_10y\":null,\"supply_active_180d\":5945707.63547656,\"supply_active_1d\":293183.65974664,\"supply_active_1y\":8550605.74557402,\"supply_active_1y_percent\":45.5899790514,\"supply_active_2y\":10213450.55885324,\"supply_active_30d\":1530055.62927059,\"supply_active_3y\":12110407.22254173,\"supply_active_4y\":13905231.26435352,\"supply_active_5y\":14572592.24049978,\"supply_active_7d\":551071.78667093,\"supply_active_90d\":3599035.20760838,\"supply_active_ever\":16983926.36300276,\"outstanding\":3828.4770623,\"supply_revived_1y\":1319.79696327,\"supply_revived_2y\":907.19173614,\"supply_revived_30d\":17951.71661912,\"supply_revived_3y\":362.86280253,\"supply_revived_4y\":96.48833128,\"supply_revived_5y\":78.06032206,\"supply_revived_7d\":47622.64733621,\"supply_revived_90d\":8235.87429946},\"supply_distribution\":{\"supply_in_addresses_balance_greater_0_001_native_units\":18748863.59154502,\"supply_in_addresses_balance_greater_0_01_native_units\":18712133.38237683,\"supply_in_addresses_balance_greater_0_1_native_units\":18522792.92919114,\"supply_in_addresses_balance_greater_1_usd\":18752761.27986738,\"supply_in_addresses_balance_greater_10_usd\":18751686.21154175,\"supply_in_addresses_balance_greater_100_usd\":18740025.00281083,\"supply_in_addresses_balance_greater_100k_usd\":17013682.56274214,\"supply_in_addresses_balance_greater_100k_native_units\":680010.37740856,\"supply_in_addresses_balance_greater_100_native_units\":11850861.01328495,\"supply_in_addresses_balance_greater_10k_usd\":18263495.27631246,\"supply_in_addresses_balance_greater_10k_native_units\":2735927.1677657,\"supply_in_addresses_balance_greater_10m_usd\":10249154.28856273,\"supply_in_addresses_balance_greater_10_native_units\":16106771.57015055,\"supply_in_addresses_balance_greater_1k_usd\":18652336.87509964,\"supply_in_addresses_balance_greater_1k_native_units\":7909241.8086965,\"supply_in_addresses_balance_greater_1m_usd\":14934486.45780183,\"supply_in_addresses_balance_greater_1m_native_units\":0,\"supply_in_addresses_balance_greater_1_native_units\":17780685.63079604,\"supply_in_contracts_usd\":null,\"supply_in_contracts_native_units\":null,\"supply_shielded\":null,\"supply_in_top_100_addresses\":2875929.04971147,\"supply_in_top_10_percent_addresses\":18576971.86731362,\"supply_in_top_1_percent_addresses\":17197125.7806386,\"supply_in_utxo_in_loss\":5790564.45734119,\"supply_in_utxo_in_profit\":12964885.585588},\"alert_messages\":null}}'"
      ]
     },
     "execution_count": 84,
     "metadata": {},
     "output_type": "execute_result"
    }
   ],
   "source": [
    "urllib.request.urlopen(urlB).read()"
   ]
  },
  {
   "cell_type": "code",
   "execution_count": 85,
   "id": "ad25617a",
   "metadata": {},
   "outputs": [],
   "source": [
    "import json"
   ]
  },
  {
   "cell_type": "code",
   "execution_count": 86,
   "id": "60ca2cb8",
   "metadata": {},
   "outputs": [],
   "source": [
    "B = json.loads(urllib.request.urlopen(urlB).read())['data']['market_data']['price_usd']"
   ]
  },
  {
   "cell_type": "code",
   "execution_count": 87,
   "id": "47a50372",
   "metadata": {},
   "outputs": [
    {
     "name": "stdout",
     "output_type": "stream",
     "text": [
      "32433.23277020085\n"
     ]
    }
   ],
   "source": [
    "print(B)"
   ]
  },
  {
   "cell_type": "code",
   "execution_count": null,
   "id": "c6c1f454",
   "metadata": {},
   "outputs": [],
   "source": []
  },
  {
   "cell_type": "code",
   "execution_count": 88,
   "id": "5b84e02f",
   "metadata": {},
   "outputs": [],
   "source": [
    "import urllib\n",
    "urlE = \"https://data.messari.io/api/v1/assets/eth/metrics\""
   ]
  },
  {
   "cell_type": "code",
   "execution_count": 89,
   "id": "6f65efc4",
   "metadata": {},
   "outputs": [
    {
     "name": "stdout",
     "output_type": "stream",
     "text": [
      "<http.client.HTTPResponse object at 0x103c397c0>\n"
     ]
    }
   ],
   "source": [
    "print(urllib.request.urlopen(urlE))"
   ]
  },
  {
   "cell_type": "code",
   "execution_count": 90,
   "id": "d846f70a",
   "metadata": {},
   "outputs": [
    {
     "data": {
      "text/plain": [
       "b'{\"status\":{\"elapsed\":5,\"timestamp\":\"2021-07-14T12:32:30.358956171Z\"},\"data\":{\"id\":\"21c795f5-1bfd-40c3-858e-e9d7e820c6d0\",\"symbol\":\"ETH\",\"name\":\"Ethereum\",\"slug\":\"ethereum\",\"contract_addresses\":[{\"platform\":\"binance-smart-chain\",\"contract_address\":\"0x2170ed0880ac9a755fd29b2688956bd959f933f8\"},{\"platform\":\"huobi-token\",\"contract_address\":\"0x64ff637fb478863b7468bc97d30a5bf3a428a1fd\"},{\"platform\":\"tomochain\",\"contract_address\":\"0x2eaa73bd0db20c64f53febea7b5f5e5bccc7fb8b\"}],\"_internal_temp_agora_id\":\"263d8b01-5a96-41f0-85d5-09687bbbf7ca\",\"market_data\":{\"price_usd\":1946.8826419075513,\"price_btc\":0.060026050850981685,\"price_eth\":1,\"volume_last_24_hours\":17838789295.591816,\"real_volume_last_24_hours\":4160956181.7920847,\"volume_last_24_hours_overstatement_multiple\":4.287185088286322,\"percent_change_usd_last_1_hour\":0.18432548301462365,\"percent_change_btc_last_1_hour\":0.2996131300329053,\"percent_change_eth_last_1_hour\":0,\"percent_change_usd_last_24_hours\":-1.6003853493357107,\"percent_change_btc_last_24_hours\":-1.175496044875459,\"percent_change_eth_last_24_hours\":0,\"ohlcv_last_1_hour\":{\"open\":1947.3085530405972,\"high\":1958.3512013975817,\"low\":1938.6267683180472,\"close\":1947.3130818035959,\"volume\":114504195.18740842},\"ohlcv_last_24_hour\":{\"open\":1997.0696283358,\"high\":2007.1328624092948,\"low\":1864.002555966982,\"close\":1946.8826419075515,\"volume\":4325068375.749293},\"last_trade_at\":\"2021-07-14T12:32:29.714Z\"},\"marketcap\":{\"rank\":2,\"marketcap_dominance_percent\":16.842800921724375,\"current_marketcap_usd\":224998425625.0844,\"y_2050_marketcap_usd\":262641185449.5091,\"y_plus10_marketcap_usd\":237673115264.37726,\"liquid_marketcap_usd\":225166302669.11383,\"volume_turnover_last_24_hours_percent\":1.8479479977546593,\"realized_marketcap_usd\":159728415164.35678,\"outstanding_marketcap_usd\":226321088202.63934},\"supply\":{\"y_2050\":135135633.79999998,\"y_plus10\":122288920.58,\"liquid\":115853844.36,\"circulating\":115767467.310237,\"y_2050_issued_percent\":85.73152846677219,\"annual_inflation_percent\":0.5423947245525705,\"stock_to_flow\":184.3675748920521,\"y_plus10_issued_percent\":94.7378092884627,\"supply_revived_90d\":116681990.65573},\"blockchain_stats_24_hours\":{\"count_of_active_addresses\":566015,\"transaction_volume\":14030699020.532934,\"adjusted_transaction_volume\":6654502165.262313,\"adjusted_nvt\":34.010220837266,\"median_tx_value\":178.85329854044795,\"median_tx_fee\":3.9834964563704243,\"count_of_tx\":1183412,\"count_of_payments\":843657,\"new_issuance\":25562882.8396248,\"average_difficulty\":6597305844297254,\"kilobytes_added\":301185.461,\"count_of_blocks_added\":6307},\"market_data_liquidity\":{\"clearing_prices_to_sell\":null,\"marketcap\":null,\"asset_bid_depth\":null,\"usd_bid_depth\":null,\"updated_at\":\"0001-01-01T00:00:00Z\"},\"all_time_high\":{\"price\":4337.099830273048,\"at\":\"2021-05-12T03:00:00Z\",\"days_since\":63,\"percent_down\":55.04728386870925,\"breakeven_multiple\":2.224559684178724},\"cycle_low\":{\"price\":1728.726317899798,\"at\":\"2021-06-22T13:00:00Z\",\"percent_up\":12.779226812600845,\"days_since\":21},\"token_sale_stats\":{\"sale_proceeds_usd\":16000000,\"sale_start_date\":\"2014-07-25\",\"sale_end_date\":\"2014-08-22\",\"roi_since_sale_usd_percent\":563113.281546419,\"roi_since_sale_btc_percent\":1126.463661446977,\"roi_since_sale_eth_percent\":null},\"staking_stats\":{\"staking_yield_percent\":4.3,\"staking_type\":\"Proof of Stake\",\"staking_minimum\":32,\"tokens_staked\":null,\"tokens_staked_percent\":null,\"real_staking_yield_percent\":3.737334172059259},\"mining_stats\":{\"mining_algo\":\"Ethash\",\"network_hash_rate\":\"483 TH/s\",\"available_on_nicehash_percent\":2.1980723767690504,\"1_hour_attack_cost\":null,\"24_hours_attack_cost\":null,\"attack_appeal\":null,\"hash_rate\":481.60088277,\"hash_rate_30d_average\":null,\"mining_revenue_per_hash_usd\":0.750868068814,\"mining_revenue_per_hash_native_units\":0.000387117178,\"mining_revenue_per_hash_per_second_usd\":64875.00114550371,\"mining_revenue_per_hash_per_second_native_units\":33.446924180006,\"mining_revenue_from_fees_percent_last_24_hours\":18.1826937449,\"mining_revenue_native\":16108.068211032167,\"mining_revenue_usd\":31259016.685596406,\"mining_revenue_total\":17841228055.822674,\"average_difficulty\":6597305844297254},\"developer_activity\":{\"stars\":31412,\"watchers\":2106,\"commits_last_3_months\":225,\"commits_last_1_year\":774,\"lines_added_last_3_months\":19071,\"lines_added_last_1_year\":90208,\"lines_deleted_last_3_months\":8582,\"lines_deleted_last_1_year\":52623},\"roi_data\":{\"percent_change_last_1_week\":-16.00953778892894,\"percent_change_last_1_month\":-24.896145439545993,\"percent_change_last_3_months\":-22.683961673211158,\"percent_change_last_1_year\":708.834206619867,\"percent_change_btc_last_1_week\":-12.466350888331903,\"percent_change_btc_last_1_month\":-5.128824216169719,\"percent_change_btc_last_3_months\":50.391837359493344,\"percent_change_btc_last_1_year\":130.4530311844929,\"percent_change_eth_last_1_week\":0,\"percent_change_eth_last_1_month\":0,\"percent_change_eth_last_3_months\":0,\"percent_change_eth_last_1_year\":0,\"percent_change_month_to_date\":-7.658740266955497,\"percent_change_quarter_to_date\":-7.658740266955497,\"percent_change_year_to_date\":166.31934780045856},\"roi_by_year\":{\"2020_usd_percent\":463.54531492813817,\"2019_usd_percent\":-9.454571210080653,\"2018_usd_percent\":-82.5340422718091,\"2017_usd_percent\":8982.05055429396,\"2016_usd_percent\":752.1474303321459,\"2015_usd_percent\":-68.51017089522384,\"2014_usd_percent\":0,\"2013_usd_percent\":0,\"2012_usd_percent\":0,\"2011_usd_percent\":0},\"risk_metrics\":{\"sharpe_ratios\":{\"last_30_days\":-1.9936236304240789,\"last_90_days\":0.18088306372135712,\"last_1_year\":2.403711278539384,\"last_3_years\":0.7775270759505244},\"volatility_stats\":{\"volatility_last_30_days\":1.0245467356424922,\"volatility_last_90_days\":1.3828074726028021,\"volatility_last_1_year\":1.077516993386973,\"volatility_last_3_years\":1.008505748095006}},\"misc_data\":{\"private_market_price_usd\":null,\"vladimir_club_cost\":21728792.758782417,\"btc_current_normalized_supply_price_usd\":10775.791018655107,\"btc_y2050_normalized_supply_price_usd\":10355.182654840439,\"asset_created_at\":\"2015-07-30\",\"asset_age_days\":2174,\"categories\":[\"Infrastructure\"],\"sectors\":[\"Smart Contract Platforms\"],\"tags\":null},\"lend_rates\":{\"aavevariable\":0.011773742705361443,\"bitfinex\":4.5071,\"blockfi\":4.5,\"celsius\":6.3,\"coinlist\":2.92,\"compound\":0.199049560736,\"cryptocom\":6,\"dydx\":0.07830644675300001,\"nuo\":0,\"poloniex\":0.0365},\"borrow_rates\":{\"aavestable\":3.399904329087162,\"aavevariable\":0.3199234632697295,\"coinlist\":3.65,\"compound\":9.220592946826,\"dydx\":1.2919619835410001,\"nuo\":3.0548504052215257},\"loan_data\":{\"originated_last_24_hours_usd\":0,\"outstanding_debt_usd\":3340103.807638321,\"repaid_last_24_hours_usd\":5236217.961313204,\"collateralized_last_24_hours_usd\":17728216.50224074,\"collateral_liquidated_last_24_hours_usd\":1445.325990317614},\"reddit\":{\"active_user_count\":2103,\"subscribers\":1033800},\"on_chain_data\":{\"addresses_count\":60084329,\"active_addresses\":566015,\"active_addresses_received_count\":393744,\"active_addresses_sent_count\":443596,\"addresses_balance_greater_0_001_native_units_count\":35451726,\"addresses_balance_greater_0_01_native_units_count\":16231519,\"addresses_balance_greater_0_1_native_units_count\":5278725,\"addresses_balance_greater_1_usd_count\":41320068,\"addresses_balance_greater_1_native_units_count\":1263642,\"addresses_balance_greater_10_usd_count\":22237203,\"addresses_balance_greater_10_native_units_count\":273493,\"addresses_balance_greater_100_usd_count\":7385542,\"addresses_balance_greater_100_native_units_count\":43364,\"addresses_balance_greater_100k_usd_count\":70667,\"addresses_balance_greater_100k_native_units_count\":160,\"addresses_balance_greater_10k_usd_count\":424266,\"addresses_balance_greater_10k_native_units_count\":1358,\"addresses_balance_greater_10m_usd_count\":1917,\"addresses_balance_greater_1k_usd_count\":2111053,\"addresses_balance_greater_1k_native_units_count\":6782,\"addresses_balance_greater_1m_usd_count\":11081,\"addresses_balance_greater_1m_native_units_count\":8,\"average_block_gas_limit\":14984940.579990488,\"block_height\":12821814,\"average_block_interval\":13.69869965,\"blocks_added_last_24_hours\":6307,\"block_size_bytes_total\":351341876,\"block_size_bytes_average\":55706.65546218488,\"uncle_blocks_count_last_24_hours\":319,\"uncle_rewards_last_24_hours_usd\":1057588.858820426,\"uncle_rewards_last_24_hours_native_units\":545.25,\"mining_revenue_from_uncle_blocks_percent_last_24_hours\":3.3849496591,\"block_weight\":null,\"average_block_weight\":null,\"total_fees_last_24_hours\":2928.8807110321663,\"total_fees_last_24_hours_usd\":5680974.981754547,\"hash_rate\":481.60088277,\"issuance_last_24_hours_native_units\":13179.1875,\"issuance_rate_daily\":0.0112949629,\"issuance_total_usd\":25562882.8396248,\"issuance_total_native_units\":13179.1875,\"new_issuance\":25562882.8396248,\"issuance_rate\":4.1226614585,\"realized_marketcap_usd\":159728415164.35678,\"adjusted_nvt\":34.010220837266,\"adjusted_nvt_90d_moving_average\":16.79967063338788,\"adjusted_rvt\":24.003060063331,\"adjusted_rvt_90d_moving_average\":11.85653880893163,\"txn_count_last_24_hours\":1183412,\"txn_contracts_calls_count_last_24_hours\":4609010,\"txn_contracts_calls_success_count_last_24_hours\":4528479,\"txn_contracts_creation_count_last_24_hours\":13801,\"txn_contracts_destruction_count_last_24_hours\":59899,\"txn_contracts_count_last_24_hours\":749673,\"txn_erc20_count_last_24_hours\":523152,\"txn_erc721_count_last_24_hours\":23329,\"txn_per_second_count\":13.696898148148,\"txn_token_count_last_24_hours\":546481,\"average_fee_usd\":4.800504796093455,\"average_fee_native_units\":0.002474945928410534,\"median_fee_usd\":3.9834964563704243,\"median_fee_native_units\":0.001258875,\"average_txn_gas_used\":78702.3140512349,\"txn_gas_limit_last_24_hours\":212103883676,\"average_txn_gas_limit\":179230.80353756764,\"txn_gas_used_last_24_hours\":93137262876,\"transfer_count_last_24_hours\":843657,\"transfer_erc_20_count_last_24_hours\":853646,\"transfer_erc721_count_last_24_hours\":34596,\"txn_volume_last_24_hours_usd\":14030699020.532934,\"adjusted_txn_volume_last_24_hours_usd\":6654502165.262313,\"adjusted_txn_volume_last_24_hours_native_units\":3430791.9144081655,\"txn_volume_last_24_hours_native_units\":7233660.393773645,\"average_transfer_value_usd\":16630.809701730603,\"average_transfer_value_native_units\":8.5741721976747,\"median_transfer_value_usd\":178.85329854044795,\"median_transfer_value_native_units\":0.09220952,\"average_utxo_age\":null,\"value_weighted_average_utxo_age\":null,\"median_utxo_age\":null,\"utxo_count_last_24_hours\":null,\"utxo_in_loss_count\":null,\"utxo_in_profit_count\":null},\"exchange_flows\":{\"flow_in_exchange_native_units\":178163.98822049276,\"flow_in_exchange_usd\":345574046.7400399,\"flow_in_exchange_native_units_inclusive\":181623.25065816278,\"flow_in_exchange_usd_inclusive\":352283771.4788125,\"flow_out_exchange_native_units\":261111.55743969313,\"flow_out_exchange_usd\":506462492.54006267,\"flow_out_exchange_native_units_inclusive\":264570.81987736316,\"flow_out_exchange_usd_inclusive\":513172217.2788353,\"flow_in_binance_usd\":126635671.23076284,\"flow_in_binance_native_units\":65288.22534646,\"flow_in_bitfinex_usd\":13208761.971612498,\"flow_in_bitfinex_native_units\":6809.90292679,\"flow_in_bitmex_usd\":null,\"flow_in_bitmex_native_units\":null,\"flow_in_bitstamp_usd\":17543890.031977013,\"flow_in_bitstamp_native_units\":9044.919450649866,\"flow_in_bittrex_usd\":13662699.942272127,\"flow_in_bittrex_native_units\":7043.934967159847,\"flow_in_gemini_usd\":59026813.89057943,\"flow_in_gemini_native_units\":30431.83559037776,\"flow_in_huobi_usd\":null,\"flow_in_huobi_native_units\":null,\"flow_in_kraken_usd\":30702153.388525665,\"flow_in_kraken_native_units\":15828.787335907497,\"flow_in_poloniex_usd\":2591041.5765192267,\"flow_in_poloniex_native_units\":1335.8361406840331,\"flow_net_binance_usd\":-19368482.631160956,\"flow_net_binance_native_units\":-9985.605527671,\"flow_net_bitfinex_usd\":-10549078.752001295,\"flow_net_bitfinex_native_units\":-5438.677933827735,\"flow_net_bitmex_usd\":null,\"flow_net_bitmex_native_units\":null,\"flow_net_bitstamp_usd\":3064944.8681412935,\"flow_net_bitstamp_native_units\":1580.1614922626527,\"flow_net_bittrex_usd\":12043167.158460062,\"flow_net_bittrex_native_units\":6208.969429267899,\"flow_net_gemini_usd\":-128027708.17092665,\"flow_net_gemini_native_units\":-66005.90323734745,\"flow_net_huobi_usd\":-8625651.302571926,\"flow_net_huobi_native_units\":-4447.036609267,\"flow_net_kraken_usd\":4573113.319401814,\"flow_net_kraken_native_units\":2357.7120887836645,\"flow_net_poloniex_usd\":1827858.9919407598,\"flow_net_poloniex_native_units\":942.3700968893476,\"flow_out_binance_usd\":146004153.86192378,\"flow_out_binance_native_units\":75273.830874131,\"flow_out_bitfinex_usd\":23757840.723613795,\"flow_out_bitfinex_native_units\":12248.580860617734,\"flow_out_bitmex_usd\":null,\"flow_out_bitmex_native_units\":null,\"flow_out_bitstamp_usd\":14478945.163835721,\"flow_out_bitstamp_native_units\":7464.757958387214,\"flow_out_bittrex_usd\":1619532.7838120654,\"flow_out_bittrex_native_units\":834.9655378919482,\"flow_out_gemini_usd\":187054522.06150606,\"flow_out_gemini_native_units\":96437.7388277252,\"flow_out_huobi_usd\":null,\"flow_out_huobi_native_units\":null,\"flow_out_kraken_usd\":26129040.069123853,\"flow_out_kraken_native_units\":13471.07524712383,\"flow_out_poloniex_usd\":763182.5845784671,\"flow_out_poloniex_native_units\":393.46604379468545,\"supply_exchange_native_units\":12112544.904043604,\"supply_exchange_usd\":23505378689.743782,\"supply_binance_usd\":6560025254.96892,\"supply_binance_native_units\":3382083.4442802486,\"supply_bitfinex_usd\":2329107166.979134,\"supply_bitfinex_native_units\":1200793.3633224894,\"supply_bitmex_usd\":null,\"supply_bitmex_native_units\":null,\"supply_bitstamp_usd\":1099816916.6327019,\"supply_bitstamp_native_units\":567021.0770401118,\"supply_bittrex_usd\":2365709380.5146894,\"supply_bittrex_native_units\":1219663.9828111639,\"supply_gemini_usd\":3664162179.032385,\"supply_gemini_native_units\":1889093.6789422438,\"supply_huobi_usd\":2587413164.67425,\"supply_huobi_native_units\":1333965.4784300074,\"supply_kraken_usd\":4235143810.2744217,\"supply_kraken_native_units\":2183468.692292855,\"supply_poloniex_usd\":54502173.25033179,\"supply_poloniex_native_units\":28099.114052589768},\"miner_flows\":{\"supply_1hop_miners_usd\":null,\"supply_1hop_miners_native_units\":null,\"supply_miners_usd\":null,\"supply_miners_native_units\":null},\"supply_activity\":{\"supply_active_10y\":null,\"supply_active_180d\":64780945.051784724,\"supply_active_1d\":20076351.60101562,\"supply_active_1y\":79637637.19462915,\"supply_active_1y_percent\":68.2518671023,\"supply_active_2y\":88816070.88655998,\"supply_active_30d\":32244347.697225746,\"supply_active_3y\":102347905.05951001,\"supply_active_4y\":108964608.45149115,\"supply_active_5y\":112769097.715382,\"supply_active_7d\":25115693.921905037,\"supply_active_90d\":51011223.932653055,\"supply_active_ever\":113592478.6345437,\"outstanding\":null,\"supply_revived_1y\":null,\"supply_revived_2y\":null,\"supply_revived_30d\":null,\"supply_revived_3y\":null,\"supply_revived_4y\":null,\"supply_revived_5y\":null,\"supply_revived_7d\":null,\"supply_revived_90d\":null},\"supply_distribution\":{\"supply_in_addresses_balance_greater_0_001_native_units\":116675098.14180875,\"supply_in_addresses_balance_greater_0_01_native_units\":116597658.10526574,\"supply_in_addresses_balance_greater_0_1_native_units\":116232308.35769571,\"supply_in_addresses_balance_greater_1_usd\":116679407.97256182,\"supply_in_addresses_balance_greater_10_usd\":116640557.32138535,\"supply_in_addresses_balance_greater_100_usd\":116388275.51113938,\"supply_in_addresses_balance_greater_100k_usd\":107587821.43282993,\"supply_in_addresses_balance_greater_100k_native_units\":51512910.546375796,\"supply_in_addresses_balance_greater_100_native_units\":105633464.49372812,\"supply_in_addresses_balance_greater_10k_usd\":113034186.44685952,\"supply_in_addresses_balance_greater_10k_native_units\":81691623.41314194,\"supply_in_addresses_balance_greater_10m_usd\":85849665.08110127,\"supply_in_addresses_balance_greater_10_native_units\":111948482.96931306,\"supply_in_addresses_balance_greater_1k_usd\":115503599.33341476,\"supply_in_addresses_balance_greater_1k_native_units\":95754394.73658876,\"supply_in_addresses_balance_greater_1m_usd\":98859998.93462957,\"supply_in_addresses_balance_greater_1m_native_units\":22393125.7441374,\"supply_in_addresses_balance_greater_1_native_units\":114875700.11931084,\"supply_in_contracts_usd\":54157255201.16206,\"supply_in_contracts_native_units\":27921288.270159014,\"supply_shielded\":null,\"supply_in_top_100_addresses\":44416617.01146124,\"supply_in_top_10_percent_addresses\":116299230.99869879,\"supply_in_top_1_percent_addresses\":113755277.92293711,\"supply_in_utxo_in_loss\":null,\"supply_in_utxo_in_profit\":null},\"alert_messages\":null}}'"
      ]
     },
     "execution_count": 90,
     "metadata": {},
     "output_type": "execute_result"
    }
   ],
   "source": [
    "urllib.request.urlopen(urlE).read()"
   ]
  },
  {
   "cell_type": "code",
   "execution_count": 91,
   "id": "1da80430",
   "metadata": {},
   "outputs": [],
   "source": [
    "import json"
   ]
  },
  {
   "cell_type": "code",
   "execution_count": 92,
   "id": "ba81f0f9",
   "metadata": {},
   "outputs": [],
   "source": [
    "E = json.loads(urllib.request.urlopen(urlE).read())['data']['market_data']['price_usd']"
   ]
  },
  {
   "cell_type": "code",
   "execution_count": 93,
   "id": "8c89da7d",
   "metadata": {},
   "outputs": [
    {
     "name": "stdout",
     "output_type": "stream",
     "text": [
      "1946.8889985854523\n"
     ]
    }
   ],
   "source": [
    "print(E)"
   ]
  },
  {
   "cell_type": "code",
   "execution_count": null,
   "id": "13f3bab3",
   "metadata": {},
   "outputs": [],
   "source": []
  },
  {
   "cell_type": "code",
   "execution_count": 94,
   "id": "78412399",
   "metadata": {},
   "outputs": [],
   "source": [
    "import urllib\n",
    "urlL = \"https://data.messari.io/api/v1/assets/ltc/metrics\""
   ]
  },
  {
   "cell_type": "code",
   "execution_count": 95,
   "id": "b107214a",
   "metadata": {},
   "outputs": [
    {
     "name": "stdout",
     "output_type": "stream",
     "text": [
      "<http.client.HTTPResponse object at 0x103bb9550>\n"
     ]
    }
   ],
   "source": [
    "print(urllib.request.urlopen(urlL))"
   ]
  },
  {
   "cell_type": "code",
   "execution_count": 96,
   "id": "3b6b51fb",
   "metadata": {},
   "outputs": [
    {
     "data": {
      "text/plain": [
       "b'{\"status\":{\"elapsed\":4,\"timestamp\":\"2021-07-14T12:32:36.10586542Z\"},\"data\":{\"id\":\"c7c3697d-1b9c-42bf-9664-a366634ce2b3\",\"symbol\":\"LTC\",\"name\":\"Litecoin\",\"slug\":\"litecoin\",\"contract_addresses\":[],\"_internal_temp_agora_id\":\"eb06508b-bbc6-4202-bf40-a9e9f8d066cf\",\"market_data\":{\"price_usd\":127.95219585951615,\"price_btc\":0.003945097709710672,\"price_eth\":0.06566517762961424,\"volume_last_24_hours\":1575022148.2226596,\"real_volume_last_24_hours\":238052529.62245408,\"volume_last_24_hours_overstatement_multiple\":6.616279821603278,\"percent_change_usd_last_1_hour\":0.11061934571216579,\"percent_change_btc_last_1_hour\":0.2281350134260853,\"percent_change_eth_last_1_hour\":-0.056952052487504054,\"percent_change_usd_last_24_hours\":-2.348313003674194,\"percent_change_btc_last_24_hours\":-1.9243900817489823,\"percent_change_eth_last_24_hours\":-0.47412317802002163,\"ohlcv_last_1_hour\":{\"open\":128.05791069706038,\"high\":128.49121645254172,\"low\":127.34819504817861,\"close\":128.0156445237488,\"volume\":6639171.340809193},\"ohlcv_last_24_hour\":{\"open\":132.54411686945883,\"high\":134.53213164016915,\"low\":123.72068281867163,\"close\":127.95219585951618,\"volume\":269395324.5436647},\"last_trade_at\":\"2021-07-14T12:32:34.319Z\"},\"marketcap\":{\"rank\":13,\"marketcap_dominance_percent\":0.6504048609852778,\"current_marketcap_usd\":8688582761.305182,\"y_2050_marketcap_usd\":10705064777.381018,\"y_plus10_marketcap_usd\":10381068109.911219,\"liquid_marketcap_usd\":8691037846.406729,\"volume_turnover_last_24_hours_percent\":2.739057565154613,\"realized_marketcap_usd\":9449243487.052853,\"outstanding_marketcap_usd\":8925370199.260948},\"supply\":{\"y_2050\":83880542.21,\"y_plus10\":81341835.84,\"liquid\":68099444.71,\"circulating\":68080207.65970913,\"y_2050_issued_percent\":81.18622378418695,\"annual_inflation_percent\":3.860050784839955,\"stock_to_flow\":25.906394908777397,\"y_plus10_issued_percent\":83.720073448984,\"supply_revived_90d\":68074804.77609155},\"blockchain_stats_24_hours\":{\"count_of_active_addresses\":406953,\"transaction_volume\":402534430.8364149,\"adjusted_transaction_volume\":119459625.14641978,\"adjusted_nvt\":74.71453378764,\"median_tx_value\":0.00786667275384882,\"median_tx_fee\":0.0014954320354942808,\"count_of_tx\":118163,\"count_of_payments\":475492,\"new_issuance\":980056.3139169988,\"average_difficulty\":8114952.030112923,\"kilobytes_added\":65198.852,\"count_of_blocks_added\":598},\"market_data_liquidity\":{\"clearing_prices_to_sell\":null,\"marketcap\":null,\"asset_bid_depth\":null,\"usd_bid_depth\":null,\"updated_at\":\"0001-01-01T00:00:00Z\"},\"all_time_high\":{\"price\":410.04618081424286,\"at\":\"2021-05-10T02:00:00Z\",\"days_since\":65,\"percent_down\":68.7384947352728,\"breakeven_multiple\":3.1988222944859714},\"cycle_low\":{\"price\":107.39491136573142,\"at\":\"2021-06-22T13:00:00Z\",\"percent_up\":19.360039291359215,\"days_since\":21},\"token_sale_stats\":{\"sale_proceeds_usd\":null,\"sale_start_date\":null,\"sale_end_date\":null,\"roi_since_sale_usd_percent\":null,\"roi_since_sale_btc_percent\":null,\"roi_since_sale_eth_percent\":null},\"staking_stats\":{\"staking_yield_percent\":null,\"staking_type\":null,\"staking_minimum\":null,\"tokens_staked\":null,\"tokens_staked_percent\":null,\"real_staking_yield_percent\":null},\"mining_stats\":{\"mining_algo\":\"Scrypt\",\"network_hash_rate\":\"237 TH/s\",\"available_on_nicehash_percent\":6.5993067131389305,\"1_hour_attack_cost\":null,\"24_hours_attack_cost\":null,\"attack_appeal\":null,\"hash_rate\":241.23107812946247,\"hash_rate_30d_average\":null,\"mining_revenue_per_hash_usd\":null,\"mining_revenue_per_hash_native_units\":null,\"mining_revenue_per_hash_per_second_usd\":null,\"mining_revenue_per_hash_per_second_native_units\":null,\"mining_revenue_from_fees_percent_last_24_hours\":0.1760250976,\"mining_revenue_native\":7488.18107805,\"mining_revenue_usd\":984368.2668581206,\"mining_revenue_total\":1765011832.488738,\"average_difficulty\":8114952.030112923},\"developer_activity\":{\"stars\":3605,\"watchers\":541,\"commits_last_3_months\":0,\"commits_last_1_year\":4,\"lines_added_last_3_months\":0,\"lines_added_last_1_year\":60,\"lines_deleted_last_3_months\":0,\"lines_deleted_last_1_year\":52},\"roi_data\":{\"percent_change_last_1_week\":-6.789649511684701,\"percent_change_last_1_month\":-29.243559402075363,\"percent_change_last_3_months\":-55.226657594945,\"percent_change_last_1_year\":191.57268744238593,\"percent_change_btc_last_1_week\":-2.857516217545915,\"percent_change_btc_last_1_month\":-10.620476763938893,\"percent_change_btc_last_3_months\":-12.908817177601485,\"percent_change_btc_last_1_year\":-16.9251138468652,\"percent_change_eth_last_1_week\":10.879181582117116,\"percent_change_eth_last_1_month\":-5.871834936025045,\"percent_change_eth_last_3_months\":-42.141687124907456,\"percent_change_eth_last_1_year\":-63.98336191397988,\"percent_change_month_to_date\":-6.650648035094435,\"percent_change_quarter_to_date\":-6.650648035094435,\"percent_change_year_to_date\":1.2592014575862729},\"roi_by_year\":{\"2020_usd_percent\":198.89902457691474,\"2019_usd_percent\":28.143649428508088,\"2018_usd_percent\":-86.58282762241937,\"2017_usd_percent\":4975.41648642082,\"2016_usd_percent\":23.324935556048963,\"2015_usd_percent\":27.179224388173353,\"2014_usd_percent\":-88.3597045156078,\"2013_usd_percent\":654.7443069444354,\"2012_usd_percent\":0,\"2011_usd_percent\":0},\"risk_metrics\":{\"sharpe_ratios\":{\"last_30_days\":-2.435174185713018,\"last_90_days\":-1.146379968158779,\"last_1_year\":1.4429405371206003,\"last_3_years\":0.5599626315619117},\"volatility_stats\":{\"volatility_last_30_days\":0.9725965689868553,\"volatility_last_90_days\":1.529195171702506,\"volatility_last_1_year\":1.196002811293204,\"volatility_last_3_years\":1.0595549940208715}},\"misc_data\":{\"private_market_price_usd\":null,\"vladimir_club_cost\":1723748.8498576323,\"btc_current_normalized_supply_price_usd\":733.0379721930465,\"btc_y2050_normalized_supply_price_usd\":821.4784129749842,\"asset_created_at\":\"2011-10-07\",\"asset_age_days\":3567,\"categories\":[\"Payments\"],\"sectors\":[\"Currencies\"],\"tags\":null},\"lend_rates\":{\"bitfinex\":2.9964,\"blockfi\":3.8,\"celsius\":4.93,\"coinlist\":5.84,\"cryptocom\":6,\"poloniex\":0.0365},\"borrow_rates\":{\"coinlist\":7.3},\"loan_data\":{\"originated_last_24_hours_usd\":null,\"outstanding_debt_usd\":null,\"repaid_last_24_hours_usd\":null,\"collateralized_last_24_hours_usd\":null,\"collateral_liquidated_last_24_hours_usd\":null},\"reddit\":{\"active_user_count\":411,\"subscribers\":338484},\"on_chain_data\":{\"addresses_count\":3713864,\"active_addresses\":406953,\"active_addresses_received_count\":374938,\"active_addresses_sent_count\":139952,\"addresses_balance_greater_0_001_native_units_count\":2941320,\"addresses_balance_greater_0_01_native_units_count\":2080176,\"addresses_balance_greater_0_1_native_units_count\":1450580,\"addresses_balance_greater_1_usd_count\":2279564,\"addresses_balance_greater_1_native_units_count\":759675,\"addresses_balance_greater_10_usd_count\":1532537,\"addresses_balance_greater_10_native_units_count\":224446,\"addresses_balance_greater_100_usd_count\":852415,\"addresses_balance_greater_100_native_units_count\":31950,\"addresses_balance_greater_100k_usd_count\":4903,\"addresses_balance_greater_100k_native_units_count\":116,\"addresses_balance_greater_10k_usd_count\":40323,\"addresses_balance_greater_10k_native_units_count\":558,\"addresses_balance_greater_10m_usd_count\":128,\"addresses_balance_greater_1k_usd_count\":264527,\"addresses_balance_greater_1k_native_units_count\":3847,\"addresses_balance_greater_1m_usd_count\":691,\"addresses_balance_greater_1m_native_units_count\":3,\"average_block_gas_limit\":null,\"block_height\":2086144,\"average_block_interval\":143.74036851,\"blocks_added_last_24_hours\":598,\"block_size_bytes_total\":64927327,\"block_size_bytes_average\":108574.1254180602,\"uncle_blocks_count_last_24_hours\":null,\"uncle_rewards_last_24_hours_usd\":null,\"uncle_rewards_last_24_hours_native_units\":null,\"mining_revenue_from_uncle_blocks_percent_last_24_hours\":null,\"block_weight\":195810640,\"average_block_weight\":327442.54180602,\"total_fees_last_24_hours\":13.18107805,\"total_fees_last_24_hours_usd\":1728.1871260381622,\"hash_rate\":241.23107812946247,\"issuance_last_24_hours_native_units\":7475,\"issuance_rate_daily\":0.0109805677,\"issuance_total_usd\":980056.3139169988,\"issuance_total_native_units\":7475,\"new_issuance\":980056.3139169988,\"issuance_rate\":4.0079072105,\"realized_marketcap_usd\":9449243487.052853,\"adjusted_nvt\":74.71453378764,\"adjusted_nvt_90d_moving_average\":26.056987599973887,\"adjusted_rvt\":79.099892331581,\"adjusted_rvt_90d_moving_average\":27.586398645028524,\"txn_count_last_24_hours\":118163,\"txn_contracts_calls_count_last_24_hours\":null,\"txn_contracts_calls_success_count_last_24_hours\":null,\"txn_contracts_creation_count_last_24_hours\":null,\"txn_contracts_destruction_count_last_24_hours\":null,\"txn_contracts_count_last_24_hours\":null,\"txn_erc20_count_last_24_hours\":null,\"txn_erc721_count_last_24_hours\":null,\"txn_per_second_count\":1.367627314815,\"txn_token_count_last_24_hours\":null,\"average_fee_usd\":0.014625455761530598,\"average_fee_native_units\":0.00011155,\"median_fee_usd\":0.0014954320354942808,\"median_fee_native_units\":0.00000426,\"average_txn_gas_used\":null,\"txn_gas_limit_last_24_hours\":null,\"average_txn_gas_limit\":null,\"txn_gas_used_last_24_hours\":null,\"transfer_count_last_24_hours\":475492,\"transfer_erc_20_count_last_24_hours\":null,\"transfer_erc721_count_last_24_hours\":null,\"txn_volume_last_24_hours_usd\":402534430.8364149,\"adjusted_txn_volume_last_24_hours_usd\":119459625.14641978,\"adjusted_txn_volume_last_24_hours_native_units\":911132.0291388,\"txn_volume_last_24_hours_native_units\":3070175.48662722,\"average_transfer_value_usd\":846.564044897583,\"average_transfer_value_native_units\":6.45683941397,\"median_transfer_value_usd\":0.00786667275384882,\"median_transfer_value_native_units\":0.00006,\"average_utxo_age\":null,\"value_weighted_average_utxo_age\":null,\"median_utxo_age\":null,\"utxo_count_last_24_hours\":30315421,\"utxo_in_loss_count\":null,\"utxo_in_profit_count\":null},\"exchange_flows\":{\"flow_in_exchange_native_units\":null,\"flow_in_exchange_usd\":null,\"flow_in_exchange_native_units_inclusive\":null,\"flow_in_exchange_usd_inclusive\":null,\"flow_out_exchange_native_units\":null,\"flow_out_exchange_usd\":null,\"flow_out_exchange_native_units_inclusive\":null,\"flow_out_exchange_usd_inclusive\":null,\"flow_in_binance_usd\":null,\"flow_in_binance_native_units\":null,\"flow_in_bitfinex_usd\":null,\"flow_in_bitfinex_native_units\":null,\"flow_in_bitmex_usd\":null,\"flow_in_bitmex_native_units\":null,\"flow_in_bitstamp_usd\":null,\"flow_in_bitstamp_native_units\":null,\"flow_in_bittrex_usd\":null,\"flow_in_bittrex_native_units\":null,\"flow_in_gemini_usd\":null,\"flow_in_gemini_native_units\":null,\"flow_in_huobi_usd\":null,\"flow_in_huobi_native_units\":null,\"flow_in_kraken_usd\":null,\"flow_in_kraken_native_units\":null,\"flow_in_poloniex_usd\":null,\"flow_in_poloniex_native_units\":null,\"flow_net_binance_usd\":null,\"flow_net_binance_native_units\":null,\"flow_net_bitfinex_usd\":null,\"flow_net_bitfinex_native_units\":null,\"flow_net_bitmex_usd\":null,\"flow_net_bitmex_native_units\":null,\"flow_net_bitstamp_usd\":null,\"flow_net_bitstamp_native_units\":null,\"flow_net_bittrex_usd\":null,\"flow_net_bittrex_native_units\":null,\"flow_net_gemini_usd\":null,\"flow_net_gemini_native_units\":null,\"flow_net_huobi_usd\":null,\"flow_net_huobi_native_units\":null,\"flow_net_kraken_usd\":null,\"flow_net_kraken_native_units\":null,\"flow_net_poloniex_usd\":null,\"flow_net_poloniex_native_units\":null,\"flow_out_binance_usd\":null,\"flow_out_binance_native_units\":null,\"flow_out_bitfinex_usd\":null,\"flow_out_bitfinex_native_units\":null,\"flow_out_bitmex_usd\":null,\"flow_out_bitmex_native_units\":null,\"flow_out_bitstamp_usd\":null,\"flow_out_bitstamp_native_units\":null,\"flow_out_bittrex_usd\":null,\"flow_out_bittrex_native_units\":null,\"flow_out_gemini_usd\":null,\"flow_out_gemini_native_units\":null,\"flow_out_huobi_usd\":null,\"flow_out_huobi_native_units\":null,\"flow_out_kraken_usd\":null,\"flow_out_kraken_native_units\":null,\"flow_out_poloniex_usd\":null,\"flow_out_poloniex_native_units\":null,\"supply_exchange_native_units\":null,\"supply_exchange_usd\":null,\"supply_binance_usd\":null,\"supply_binance_native_units\":null,\"supply_bitfinex_usd\":null,\"supply_bitfinex_native_units\":null,\"supply_bitmex_usd\":null,\"supply_bitmex_native_units\":null,\"supply_bitstamp_usd\":null,\"supply_bitstamp_native_units\":null,\"supply_bittrex_usd\":null,\"supply_bittrex_native_units\":null,\"supply_gemini_usd\":null,\"supply_gemini_native_units\":null,\"supply_huobi_usd\":null,\"supply_huobi_native_units\":null,\"supply_kraken_usd\":null,\"supply_kraken_native_units\":null,\"supply_poloniex_usd\":null,\"supply_poloniex_native_units\":null},\"miner_flows\":{\"supply_1hop_miners_usd\":null,\"supply_1hop_miners_native_units\":null,\"supply_miners_usd\":null,\"supply_miners_native_units\":null},\"supply_activity\":{\"supply_active_10y\":null,\"supply_active_180d\":32941086.17409192,\"supply_active_1d\":1932340.43322078,\"supply_active_1y\":38624881.45725354,\"supply_active_1y_percent\":56.7388795081,\"supply_active_2y\":43374547.62416257,\"supply_active_30d\":8294582.20796542,\"supply_active_3y\":56650504.23703864,\"supply_active_4y\":63158175.05061806,\"supply_active_5y\":64464602.75546089,\"supply_active_7d\":4441355.74032802,\"supply_active_90d\":22073194.53653133,\"supply_active_ever\":67792332.39263777,\"outstanding\":164592.31429736,\"supply_revived_1y\":155341.3108404,\"supply_revived_2y\":152264.52036944,\"supply_revived_30d\":241350.19069886,\"supply_revived_3y\":151312.77097032,\"supply_revived_4y\":77.28484214,\"supply_revived_5y\":51.21964403,\"supply_revived_7d\":346577.39080214,\"supply_revived_90d\":198483.57138108},\"supply_distribution\":{\"supply_in_addresses_balance_greater_0_001_native_units\":68074535.27704225,\"supply_in_addresses_balance_greater_0_01_native_units\":68070711.00885063,\"supply_in_addresses_balance_greater_0_1_native_units\":68047476.16039161,\"supply_in_addresses_balance_greater_1_usd\":68072619.54258627,\"supply_in_addresses_balance_greater_10_usd\":68054768.48379736,\"supply_in_addresses_balance_greater_100_usd\":67855919.89296086,\"supply_in_addresses_balance_greater_100k_usd\":53775033.38312324,\"supply_in_addresses_balance_greater_100k_native_units\":32904315.98055147,\"supply_in_addresses_balance_greater_100_native_units\":60218123.01213685,\"supply_in_addresses_balance_greater_10k_usd\":60959195.76694745,\"supply_in_addresses_balance_greater_10k_native_units\":44211829.76633383,\"supply_in_addresses_balance_greater_10m_usd\":33927611.19159323,\"supply_in_addresses_balance_greater_10_native_units\":66045394.4924655,\"supply_in_addresses_balance_greater_1k_usd\":66401009.11602666,\"supply_in_addresses_balance_greater_1k_native_units\":52838938.74719293,\"supply_in_addresses_balance_greater_1m_usd\":45393935.60683147,\"supply_in_addresses_balance_greater_1m_native_units\":8010227.13013358,\"supply_in_addresses_balance_greater_1_native_units\":67771244.7737846,\"supply_in_contracts_usd\":null,\"supply_in_contracts_native_units\":null,\"supply_shielded\":null,\"supply_in_top_100_addresses\":31304314.97454147,\"supply_in_top_10_percent_addresses\":66998101.85504765,\"supply_in_top_1_percent_addresses\":60704130.15093818,\"supply_in_utxo_in_loss\":null,\"supply_in_utxo_in_profit\":null},\"alert_messages\":null}}'"
      ]
     },
     "execution_count": 96,
     "metadata": {},
     "output_type": "execute_result"
    }
   ],
   "source": [
    "urllib.request.urlopen(urlL).read()"
   ]
  },
  {
   "cell_type": "code",
   "execution_count": 97,
   "id": "b5d1cd46",
   "metadata": {},
   "outputs": [],
   "source": [
    "import json"
   ]
  },
  {
   "cell_type": "code",
   "execution_count": 98,
   "id": "ac1d583d",
   "metadata": {},
   "outputs": [],
   "source": [
    "L = json.loads(urllib.request.urlopen(urlL).read())['data']['market_data']['price_usd']"
   ]
  },
  {
   "cell_type": "code",
   "execution_count": 99,
   "id": "705140a9",
   "metadata": {},
   "outputs": [
    {
     "name": "stdout",
     "output_type": "stream",
     "text": [
      "127.9307403218063\n"
     ]
    }
   ],
   "source": [
    "print(L)"
   ]
  },
  {
   "cell_type": "code",
   "execution_count": null,
   "id": "fe9e6cda",
   "metadata": {},
   "outputs": [],
   "source": []
  },
  {
   "cell_type": "code",
   "execution_count": 100,
   "id": "49196806",
   "metadata": {},
   "outputs": [],
   "source": [
    "import urllib\n",
    "urlD = \"https://data.messari.io/api/v1/assets/doge/metrics\""
   ]
  },
  {
   "cell_type": "code",
   "execution_count": 101,
   "id": "7b837438",
   "metadata": {},
   "outputs": [
    {
     "name": "stdout",
     "output_type": "stream",
     "text": [
      "<http.client.HTTPResponse object at 0x103b804f0>\n"
     ]
    }
   ],
   "source": [
    "print(urllib.request.urlopen(urlD))"
   ]
  },
  {
   "cell_type": "code",
   "execution_count": 102,
   "id": "dfb01745",
   "metadata": {},
   "outputs": [
    {
     "data": {
      "text/plain": [
       "b'{\"status\":{\"elapsed\":2,\"timestamp\":\"2021-07-14T12:32:40.230616049Z\"},\"data\":{\"id\":\"7d793fa7-5fc6-432a-b26b-d1b10769d42e\",\"symbol\":\"DOGE\",\"name\":\"Dogecoin\",\"slug\":\"dogecoin\",\"contract_addresses\":[{\"platform\":\"binance-smart-chain\",\"contract_address\":\"0x4206931337dc273a630d328da6441786bfad668f\"}],\"_internal_temp_agora_id\":\"683e1999-91b6-434f-91a6-4b14e7d9e4b6\",\"market_data\":{\"price_usd\":0.1961653131216794,\"price_btc\":0.000006049770892284868,\"price_eth\":0.00010101632301912879,\"volume_last_24_hours\":1386342800.0515888,\"real_volume_last_24_hours\":528900565.07877976,\"volume_last_24_hours_overstatement_multiple\":2.621178519340574,\"percent_change_usd_last_1_hour\":-0.2845986946860327,\"percent_change_btc_last_1_hour\":-0.1430184463743324,\"percent_change_eth_last_1_hour\":-0.44175690581780064,\"percent_change_usd_last_24_hours\":-2.192943104964217,\"percent_change_btc_last_24_hours\":-1.7442104958893732,\"percent_change_eth_last_24_hours\":-0.06539189618788208,\"ohlcv_last_1_hour\":{\"open\":0.1968449298145641,\"high\":0.19725092159362878,\"low\":0.19563071759432765,\"close\":0.19617213386764837,\"volume\":17110749.45215612},\"ohlcv_last_24_hour\":{\"open\":0.2028815509416809,\"high\":0.20432598219376064,\"low\":0.18725577805284124,\"close\":0.19616531312167942,\"volume\":601810053.8666215},\"last_trade_at\":\"2021-07-14T12:32:38.523Z\"},\"marketcap\":{\"rank\":7,\"marketcap_dominance_percent\":1.914018653335997,\"current_marketcap_usd\":25568857912.59197,\"y_2050_marketcap_usd\":55078366815.02999,\"y_plus10_marketcap_usd\":36009375454.801636,\"liquid_marketcap_usd\":25694938812.117363,\"volume_turnover_last_24_hours_percent\":2.0583842170091406,\"realized_marketcap_usd\":18361352776.492874,\"outstanding_marketcap_usd\":26022225470.301235},\"supply\":{\"y_2050\":280666706295.71,\"y_plus10\":183495506295.71,\"liquid\":130935506295.71,\"circulating\":130293026991.35022,\"y_2050_issued_percent\":46.651598981518156,\"annual_inflation_percent\":4.01418999986882,\"stock_to_flow\":24.911626007555178,\"y_plus10_issued_percent\":71.35624677625754,\"supply_revived_90d\":130285255502.67664},\"blockchain_stats_24_hours\":{\"count_of_active_addresses\":46915,\"transaction_volume\":11152084069.43925,\"adjusted_transaction_volume\":701397995.0939972,\"adjusted_nvt\":37.100513050103,\"median_tx_value\":30.16667783548668,\"median_tx_fee\":0.5992000522246776,\"count_of_tx\":17758,\"count_of_payments\":46978,\"new_issuance\":2736337.949890291,\"average_difficulty\":3662491.928619206,\"kilobytes_added\":17708.761,\"count_of_blocks_added\":1370},\"market_data_liquidity\":{\"clearing_prices_to_sell\":null,\"marketcap\":null,\"asset_bid_depth\":null,\"usd_bid_depth\":null,\"updated_at\":\"0001-01-01T00:00:00Z\"},\"all_time_high\":{\"price\":0.7370393564480752,\"at\":\"2021-05-08T04:00:00Z\",\"days_since\":67,\"percent_down\":73.34588612878352,\"breakeven_multiple\":3.7517660682011655},\"cycle_low\":{\"price\":0.1684037161139035,\"at\":\"2021-06-21T22:00:00Z\",\"percent_up\":16.654972869171715,\"days_since\":22},\"token_sale_stats\":{\"sale_proceeds_usd\":null,\"sale_start_date\":null,\"sale_end_date\":null,\"roi_since_sale_usd_percent\":null,\"roi_since_sale_btc_percent\":null,\"roi_since_sale_eth_percent\":null},\"staking_stats\":{\"staking_yield_percent\":null,\"staking_type\":null,\"staking_minimum\":null,\"tokens_staked\":null,\"tokens_staked_percent\":null,\"real_staking_yield_percent\":null},\"mining_stats\":{\"mining_algo\":\"Scrypt\",\"network_hash_rate\":\"166 TH/s\",\"available_on_nicehash_percent\":9.19044980255731,\"1_hour_attack_cost\":null,\"24_hours_attack_cost\":null,\"attack_appeal\":null,\"hash_rate\":249.4269422558656,\"hash_rate_30d_average\":null,\"mining_revenue_per_hash_usd\":null,\"mining_revenue_per_hash_native_units\":null,\"mining_revenue_per_hash_per_second_usd\":null,\"mining_revenue_per_hash_per_second_native_units\":null,\"mining_revenue_from_fees_percent_last_24_hours\":0.3027883201,\"mining_revenue_native\":13741607.98396261,\"mining_revenue_usd\":2746244.6350547425,\"mining_revenue_total\":589607417.7490236,\"average_difficulty\":3662491.928619206},\"developer_activity\":{\"stars\":null,\"watchers\":null,\"commits_last_3_months\":0,\"commits_last_1_year\":0,\"lines_added_last_3_months\":0,\"lines_added_last_1_year\":0,\"lines_deleted_last_3_months\":0,\"lines_deleted_last_1_year\":0},\"roi_data\":{\"percent_change_last_1_week\":-11.870692663526833,\"percent_change_last_1_month\":-39.781814478163504,\"percent_change_last_3_months\":8.087710815906236,\"percent_change_last_1_year\":5908.452305524293,\"percent_change_btc_last_1_week\":-8.152906154285285,\"percent_change_btc_last_1_month\":-23.932398710283735,\"percent_change_btc_last_3_months\":110.2475731733584,\"percent_change_btc_last_1_year\":1611.928149431356,\"percent_change_eth_last_1_week\":4.834982592324664,\"percent_change_eth_last_1_month\":-19.89100555718529,\"percent_change_eth_last_3_months\":39.67625051895089,\"percent_change_eth_last_1_year\":642.1965824146082,\"percent_change_month_to_date\":-19.070765884066212,\"percent_change_quarter_to_date\":-19.070765884066212,\"percent_change_year_to_date\":3368.8185579896062},\"roi_by_year\":{\"2020_usd_percent\":129.96583031156587,\"2019_usd_percent\":-17.343031693529024,\"2018_usd_percent\":-73.35739698641875,\"2017_usd_percent\":3787.8373571686147,\"2016_usd_percent\":65.98832846940319,\"2015_usd_percent\":-24.752076639441214,\"2014_usd_percent\":-90.33684815555193,\"2013_usd_percent\":0,\"2012_usd_percent\":0,\"2011_usd_percent\":0},\"risk_metrics\":{\"sharpe_ratios\":{\"last_30_days\":-2.300164717619168,\"last_90_days\":1.9747825570564486,\"last_1_year\":1.8340766695884583,\"last_3_years\":1.1267176584699747},\"volatility_stats\":{\"volatility_last_30_days\":1.7284626251174455,\"volatility_last_90_days\":3.1560627038495386,\"volatility_last_1_year\":4.42741748355552,\"volatility_last_3_years\":2.6992793440850424}},\"misc_data\":{\"private_market_price_usd\":null,\"vladimir_club_cost\":1506047.6776014378,\"btc_current_normalized_supply_price_usd\":369.32586714501707,\"btc_y2050_normalized_supply_price_usd\":717.729648471047,\"asset_created_at\":\"2013-12-08\",\"asset_age_days\":2774,\"categories\":[\"Payments\"],\"sectors\":[\"Currencies\"],\"tags\":null},\"lend_rates\":{\"poloniex\":0.0365},\"borrow_rates\":{},\"loan_data\":{\"originated_last_24_hours_usd\":null,\"outstanding_debt_usd\":null,\"repaid_last_24_hours_usd\":null,\"collateralized_last_24_hours_usd\":null,\"collateral_liquidated_last_24_hours_usd\":null},\"reddit\":{\"active_user_count\":5349,\"subscribers\":2108335},\"on_chain_data\":{\"addresses_count\":4080744,\"active_addresses\":46915,\"active_addresses_received_count\":39897,\"active_addresses_sent_count\":24218,\"addresses_balance_greater_0_001_native_units_count\":3783941,\"addresses_balance_greater_0_01_native_units_count\":3776189,\"addresses_balance_greater_0_1_native_units_count\":3739783,\"addresses_balance_greater_1_usd_count\":2931728,\"addresses_balance_greater_1_native_units_count\":3682333,\"addresses_balance_greater_10_usd_count\":2190575,\"addresses_balance_greater_10_native_units_count\":2680027,\"addresses_balance_greater_100_usd_count\":1135323,\"addresses_balance_greater_100_native_units_count\":1911202,\"addresses_balance_greater_100k_usd_count\":8730,\"addresses_balance_greater_100k_native_units_count\":37543,\"addresses_balance_greater_10k_usd_count\":67716,\"addresses_balance_greater_10k_native_units_count\":251872,\"addresses_balance_greater_10m_usd_count\":204,\"addresses_balance_greater_1k_usd_count\":375690,\"addresses_balance_greater_1k_native_units_count\":864485,\"addresses_balance_greater_1m_usd_count\":1091,\"addresses_balance_greater_1m_native_units_count\":4568,\"average_block_gas_limit\":null,\"block_height\":3811275,\"average_block_interval\":63.01753104,\"blocks_added_last_24_hours\":1370,\"block_size_bytes_total\":9643671,\"block_size_bytes_average\":7039.175912408759,\"uncle_blocks_count_last_24_hours\":null,\"uncle_rewards_last_24_hours_usd\":null,\"uncle_rewards_last_24_hours_native_units\":null,\"mining_revenue_from_uncle_blocks_percent_last_24_hours\":null,\"block_weight\":null,\"average_block_weight\":null,\"total_fees_last_24_hours\":41607.98396261,\"total_fees_last_24_hours_usd\":8310.474856592435,\"hash_rate\":249.4269422558656,\"issuance_last_24_hours_native_units\":13700000,\"issuance_rate_daily\":0.0105153879,\"issuance_total_usd\":2736337.949890291,\"issuance_total_native_units\":13700000,\"new_issuance\":2736337.949890291,\"issuance_rate\":3.8381165835,\"realized_marketcap_usd\":18361352776.492874,\"adjusted_nvt\":37.100513050103,\"adjusted_nvt_90d_moving_average\":14.165488645447926,\"adjusted_rvt\":26.178222499812,\"adjusted_rvt_90d_moving_average\":9.995207157332445,\"txn_count_last_24_hours\":17758,\"txn_contracts_calls_count_last_24_hours\":null,\"txn_contracts_calls_success_count_last_24_hours\":null,\"txn_contracts_creation_count_last_24_hours\":null,\"txn_contracts_destruction_count_last_24_hours\":null,\"txn_contracts_count_last_24_hours\":null,\"txn_erc20_count_last_24_hours\":null,\"txn_erc721_count_last_24_hours\":null,\"txn_per_second_count\":0.205532407407,\"txn_token_count_last_24_hours\":null,\"average_fee_usd\":0.4679848443382232,\"average_fee_native_units\":2.34305575,\"median_fee_usd\":0.5992000522246776,\"median_fee_native_units\":1.259,\"average_txn_gas_used\":null,\"txn_gas_limit_last_24_hours\":null,\"average_txn_gas_limit\":null,\"txn_gas_used_last_24_hours\":null,\"transfer_count_last_24_hours\":46978,\"transfer_erc_20_count_last_24_hours\":null,\"transfer_erc721_count_last_24_hours\":null,\"txn_volume_last_24_hours_usd\":11152084069.43925,\"adjusted_txn_volume_last_24_hours_usd\":701397995.0939972,\"adjusted_txn_volume_last_24_hours_native_units\":3511683391.7290907,\"txn_volume_last_24_hours_native_units\":55835044701.785965,\"average_transfer_value_usd\":237389.50294689537,\"average_transfer_value_native_units\":1188536.0105110044,\"median_transfer_value_usd\":30.16667783548668,\"median_transfer_value_native_units\":151.03525,\"average_utxo_age\":null,\"value_weighted_average_utxo_age\":null,\"median_utxo_age\":null,\"utxo_count_last_24_hours\":14639353,\"utxo_in_loss_count\":null,\"utxo_in_profit_count\":null},\"exchange_flows\":{\"flow_in_exchange_native_units\":null,\"flow_in_exchange_usd\":null,\"flow_in_exchange_native_units_inclusive\":null,\"flow_in_exchange_usd_inclusive\":null,\"flow_out_exchange_native_units\":null,\"flow_out_exchange_usd\":null,\"flow_out_exchange_native_units_inclusive\":null,\"flow_out_exchange_usd_inclusive\":null,\"flow_in_binance_usd\":null,\"flow_in_binance_native_units\":null,\"flow_in_bitfinex_usd\":null,\"flow_in_bitfinex_native_units\":null,\"flow_in_bitmex_usd\":null,\"flow_in_bitmex_native_units\":null,\"flow_in_bitstamp_usd\":null,\"flow_in_bitstamp_native_units\":null,\"flow_in_bittrex_usd\":null,\"flow_in_bittrex_native_units\":null,\"flow_in_gemini_usd\":null,\"flow_in_gemini_native_units\":null,\"flow_in_huobi_usd\":null,\"flow_in_huobi_native_units\":null,\"flow_in_kraken_usd\":null,\"flow_in_kraken_native_units\":null,\"flow_in_poloniex_usd\":null,\"flow_in_poloniex_native_units\":null,\"flow_net_binance_usd\":null,\"flow_net_binance_native_units\":null,\"flow_net_bitfinex_usd\":null,\"flow_net_bitfinex_native_units\":null,\"flow_net_bitmex_usd\":null,\"flow_net_bitmex_native_units\":null,\"flow_net_bitstamp_usd\":null,\"flow_net_bitstamp_native_units\":null,\"flow_net_bittrex_usd\":null,\"flow_net_bittrex_native_units\":null,\"flow_net_gemini_usd\":null,\"flow_net_gemini_native_units\":null,\"flow_net_huobi_usd\":null,\"flow_net_huobi_native_units\":null,\"flow_net_kraken_usd\":null,\"flow_net_kraken_native_units\":null,\"flow_net_poloniex_usd\":null,\"flow_net_poloniex_native_units\":null,\"flow_out_binance_usd\":null,\"flow_out_binance_native_units\":null,\"flow_out_bitfinex_usd\":null,\"flow_out_bitfinex_native_units\":null,\"flow_out_bitmex_usd\":null,\"flow_out_bitmex_native_units\":null,\"flow_out_bitstamp_usd\":null,\"flow_out_bitstamp_native_units\":null,\"flow_out_bittrex_usd\":null,\"flow_out_bittrex_native_units\":null,\"flow_out_gemini_usd\":null,\"flow_out_gemini_native_units\":null,\"flow_out_huobi_usd\":null,\"flow_out_huobi_native_units\":null,\"flow_out_kraken_usd\":null,\"flow_out_kraken_native_units\":null,\"flow_out_poloniex_usd\":null,\"flow_out_poloniex_native_units\":null,\"supply_exchange_native_units\":null,\"supply_exchange_usd\":null,\"supply_binance_usd\":null,\"supply_binance_native_units\":null,\"supply_bitfinex_usd\":null,\"supply_bitfinex_native_units\":null,\"supply_bitmex_usd\":null,\"supply_bitmex_native_units\":null,\"supply_bitstamp_usd\":null,\"supply_bitstamp_native_units\":null,\"supply_bittrex_usd\":null,\"supply_bittrex_native_units\":null,\"supply_gemini_usd\":null,\"supply_gemini_native_units\":null,\"supply_huobi_usd\":null,\"supply_huobi_native_units\":null,\"supply_kraken_usd\":null,\"supply_kraken_native_units\":null,\"supply_poloniex_usd\":null,\"supply_poloniex_native_units\":null},\"miner_flows\":{\"supply_1hop_miners_usd\":null,\"supply_1hop_miners_native_units\":null,\"supply_miners_usd\":null,\"supply_miners_native_units\":null},\"supply_activity\":{\"supply_active_10y\":null,\"supply_active_180d\":68249332666.608284,\"supply_active_1d\":4700730584.680658,\"supply_active_1y\":84351051658.3339,\"supply_active_1y_percent\":64.74335974,\"supply_active_2y\":94647404931.163,\"supply_active_30d\":21343625609.640133,\"supply_active_3y\":103942626067.87517,\"supply_active_4y\":109975711976.97934,\"supply_active_5y\":111004414993.04388,\"supply_active_7d\":7901512984.950878,\"supply_active_90d\":52127406556.12377,\"supply_active_ever\":129697733188.40128,\"outstanding\":3404086.83948408,\"supply_revived_1y\":3114259.40593874,\"supply_revived_2y\":2814948.12890578,\"supply_revived_30d\":66630375.27518751,\"supply_revived_3y\":2417792.7002498,\"supply_revived_4y\":1591510.52062603,\"supply_revived_5y\":1538608.27335054,\"supply_revived_7d\":110871369.46448928,\"supply_revived_90d\":21200606.41580545},\"supply_distribution\":{\"supply_in_addresses_balance_greater_0_001_native_units\":130285255499.00386,\"supply_in_addresses_balance_greater_0_01_native_units\":130285255465.02286,\"supply_in_addresses_balance_greater_0_1_native_units\":130285254028.41882,\"supply_in_addresses_balance_greater_1_usd\":130283698303.02289,\"supply_in_addresses_balance_greater_10_usd\":130269116409.16681,\"supply_in_addresses_balance_greater_100_usd\":130062922162.36426,\"supply_in_addresses_balance_greater_100k_usd\":115909842681.65144,\"supply_in_addresses_balance_greater_100k_native_units\":121784029754.25075,\"supply_in_addresses_balance_greater_100_native_units\":130248489418.77179,\"supply_in_addresses_balance_greater_10k_usd\":123915527461.9146,\"supply_in_addresses_balance_greater_10k_native_units\":127861718601.03549,\"supply_in_addresses_balance_greater_10m_usd\":92790263844.40898,\"supply_in_addresses_balance_greater_10_native_units\":130281837411.2297,\"supply_in_addresses_balance_greater_1k_usd\":128760529965.6665,\"supply_in_addresses_balance_greater_1k_native_units\":129864828567.75613,\"supply_in_addresses_balance_greater_1m_usd\":106260953344.02283,\"supply_in_addresses_balance_greater_1m_native_units\":112964430005.59837,\"supply_in_addresses_balance_greater_1_native_units\":130285226496.96063,\"supply_in_contracts_usd\":null,\"supply_in_contracts_native_units\":null,\"supply_shielded\":null,\"supply_in_top_100_addresses\":85417135715.2431,\"supply_in_top_10_percent_addresses\":128915915684.537,\"supply_in_top_1_percent_addresses\":122104076922.21483,\"supply_in_utxo_in_loss\":null,\"supply_in_utxo_in_profit\":null},\"alert_messages\":null}}'"
      ]
     },
     "execution_count": 102,
     "metadata": {},
     "output_type": "execute_result"
    }
   ],
   "source": [
    "urllib.request.urlopen(urlD).read()"
   ]
  },
  {
   "cell_type": "code",
   "execution_count": 103,
   "id": "d7a411aa",
   "metadata": {},
   "outputs": [],
   "source": [
    "import json"
   ]
  },
  {
   "cell_type": "code",
   "execution_count": 104,
   "id": "08156974",
   "metadata": {},
   "outputs": [],
   "source": [
    "D = json.loads(urllib.request.urlopen(urlD).read())['data']['market_data']['price_usd']"
   ]
  },
  {
   "cell_type": "code",
   "execution_count": 105,
   "id": "4789b42a",
   "metadata": {},
   "outputs": [
    {
     "name": "stdout",
     "output_type": "stream",
     "text": [
      "0.19620805190764876\n"
     ]
    }
   ],
   "source": [
    "print(D)"
   ]
  },
  {
   "cell_type": "code",
   "execution_count": null,
   "id": "95ad8ed6",
   "metadata": {},
   "outputs": [],
   "source": []
  },
  {
   "cell_type": "code",
   "execution_count": 106,
   "id": "5478dc86",
   "metadata": {},
   "outputs": [],
   "source": [
    "import urllib\n",
    "urlH = \"https://data.messari.io/api/v1/assets/hex/metrics\""
   ]
  },
  {
   "cell_type": "code",
   "execution_count": 107,
   "id": "58091372",
   "metadata": {},
   "outputs": [
    {
     "name": "stdout",
     "output_type": "stream",
     "text": [
      "<http.client.HTTPResponse object at 0x103bb9280>\n"
     ]
    }
   ],
   "source": [
    "print(urllib.request.urlopen(urlH))"
   ]
  },
  {
   "cell_type": "code",
   "execution_count": 108,
   "id": "e8d30518",
   "metadata": {},
   "outputs": [
    {
     "data": {
      "text/plain": [
       "b'{\"status\":{\"elapsed\":7,\"timestamp\":\"2021-07-14T12:32:44.285575091Z\"},\"data\":{\"id\":\"9da97e1c-fb34-48ff-9081-4d64565ad466\",\"symbol\":\"HEX\",\"name\":\"Hex\",\"slug\":\"hex-2\",\"contract_addresses\":[{\"platform\":\"ethereum\",\"contract_address\":\"0x2b591e99afe9f32eaa6214f7b7629768c40eeb39\"}],\"_internal_temp_agora_id\":\"994a6399-d783-4df8-89f8-708b4b29f1fe\",\"market_data\":{\"price_usd\":0.13973505013062532,\"price_btc\":0.000004308657551714724,\"price_eth\":0.00007131159150769039,\"volume_last_24_hours\":89795149.18903647,\"real_volume_last_24_hours\":89795393.9221187,\"volume_last_24_hours_overstatement_multiple\":0.9999972745474848,\"percent_change_usd_last_1_hour\":2.3867996559106652,\"percent_change_btc_last_1_hour\":2.513266444122145,\"percent_change_eth_last_1_hour\":2.209039783688848,\"percent_change_usd_last_24_hours\":28.70938834062956,\"percent_change_btc_last_24_hours\":29.276056633614573,\"percent_change_eth_last_24_hours\":29.450444250868347,\"ohlcv_last_1_hour\":{\"open\":0.13605875891569452,\"high\":0.14100781076330388,\"low\":0.13553769803978358,\"close\":0.13981085482205743,\"volume\":1553685.9107176987},\"ohlcv_last_24_hour\":{\"open\":0.10851080189436732,\"high\":0.15576512737582798,\"low\":0.09779794145037549,\"close\":0.13973505013062532,\"volume\":73395228.98684178},\"last_trade_at\":\"2021-07-14T12:31:52Z\"},\"marketcap\":{\"rank\":null,\"marketcap_dominance_percent\":null,\"current_marketcap_usd\":null,\"y_2050_marketcap_usd\":null,\"y_plus10_marketcap_usd\":null,\"liquid_marketcap_usd\":null,\"volume_turnover_last_24_hours_percent\":null,\"realized_marketcap_usd\":null,\"outstanding_marketcap_usd\":null},\"supply\":{\"y_2050\":null,\"y_plus10\":null,\"liquid\":null,\"circulating\":null,\"y_2050_issued_percent\":null,\"annual_inflation_percent\":null,\"stock_to_flow\":null,\"y_plus10_issued_percent\":null,\"supply_revived_90d\":null},\"blockchain_stats_24_hours\":{\"count_of_active_addresses\":null,\"transaction_volume\":null,\"adjusted_transaction_volume\":null,\"adjusted_nvt\":null,\"median_tx_value\":null,\"median_tx_fee\":null,\"count_of_tx\":null,\"count_of_payments\":null,\"new_issuance\":null,\"average_difficulty\":null,\"kilobytes_added\":null,\"count_of_blocks_added\":null},\"market_data_liquidity\":{\"clearing_prices_to_sell\":null,\"marketcap\":null,\"asset_bid_depth\":null,\"usd_bid_depth\":null,\"updated_at\":\"0001-01-01T00:00:00Z\"},\"all_time_high\":{\"price\":0.13763809301023472,\"at\":\"2021-07-14T11:00:00Z\",\"days_since\":0,\"percent_down\":-0,\"breakeven_multiple\":1},\"cycle_low\":{\"price\":0.13763809301023472,\"at\":\"2021-07-14T11:00:00Z\",\"percent_up\":0,\"days_since\":0},\"token_sale_stats\":{\"sale_proceeds_usd\":null,\"sale_start_date\":null,\"sale_end_date\":null,\"roi_since_sale_usd_percent\":null,\"roi_since_sale_btc_percent\":null,\"roi_since_sale_eth_percent\":null},\"staking_stats\":{\"staking_yield_percent\":null,\"staking_type\":null,\"staking_minimum\":null,\"tokens_staked\":null,\"tokens_staked_percent\":null,\"real_staking_yield_percent\":null},\"mining_stats\":{\"mining_algo\":null,\"network_hash_rate\":null,\"available_on_nicehash_percent\":null,\"1_hour_attack_cost\":null,\"24_hours_attack_cost\":null,\"attack_appeal\":null,\"hash_rate\":null,\"hash_rate_30d_average\":null,\"mining_revenue_per_hash_usd\":null,\"mining_revenue_per_hash_native_units\":null,\"mining_revenue_per_hash_per_second_usd\":null,\"mining_revenue_per_hash_per_second_native_units\":null,\"mining_revenue_from_fees_percent_last_24_hours\":null,\"mining_revenue_native\":null,\"mining_revenue_usd\":null,\"mining_revenue_total\":null,\"average_difficulty\":null},\"developer_activity\":{\"stars\":null,\"watchers\":null,\"commits_last_3_months\":null,\"commits_last_1_year\":null,\"lines_added_last_3_months\":null,\"lines_added_last_1_year\":null,\"lines_deleted_last_3_months\":null,\"lines_deleted_last_1_year\":null},\"roi_data\":{\"percent_change_last_1_week\":60.56050425820846,\"percent_change_last_1_month\":44.71641198740655,\"percent_change_last_3_months\":622.4399198610936,\"percent_change_last_1_year\":null,\"percent_change_btc_last_1_week\":67.33384328343351,\"percent_change_btc_last_1_month\":82.80574600084086,\"percent_change_btc_last_3_months\":1305.2591064034082,\"percent_change_btc_last_1_year\":null,\"percent_change_eth_last_1_week\":90.9961416655537,\"percent_change_eth_last_1_month\":92.51802662634718,\"percent_change_eth_last_3_months\":833.5723596114801,\"percent_change_eth_last_1_year\":null,\"percent_change_month_to_date\":80.73757654255056,\"percent_change_quarter_to_date\":80.73757654255056,\"percent_change_year_to_date\":923.9468761093826},\"roi_by_year\":{\"2020_usd_percent\":null,\"2019_usd_percent\":null,\"2018_usd_percent\":null,\"2017_usd_percent\":null,\"2016_usd_percent\":null,\"2015_usd_percent\":null,\"2014_usd_percent\":null,\"2013_usd_percent\":null,\"2012_usd_percent\":null,\"2011_usd_percent\":null},\"risk_metrics\":{\"sharpe_ratios\":{\"last_30_days\":2.3057833826359575,\"last_90_days\":5.467383266550628,\"last_1_year\":3.15345684506962,\"last_3_years\":null},\"volatility_stats\":{\"volatility_last_30_days\":1.2047833357689812,\"volatility_last_90_days\":1.5991554220645758,\"volatility_last_1_year\":1.9384241546171292,\"volatility_last_3_years\":null}},\"misc_data\":{\"private_market_price_usd\":null,\"vladimir_club_cost\":null,\"btc_current_normalized_supply_price_usd\":null,\"btc_y2050_normalized_supply_price_usd\":null,\"asset_created_at\":null,\"asset_age_days\":null,\"categories\":null,\"sectors\":null,\"tags\":null},\"lend_rates\":null,\"borrow_rates\":null,\"loan_data\":{\"originated_last_24_hours_usd\":null,\"outstanding_debt_usd\":null,\"repaid_last_24_hours_usd\":null,\"collateralized_last_24_hours_usd\":null,\"collateral_liquidated_last_24_hours_usd\":null},\"reddit\":{\"active_user_count\":null,\"subscribers\":null},\"on_chain_data\":{\"addresses_count\":null,\"active_addresses\":null,\"active_addresses_received_count\":null,\"active_addresses_sent_count\":null,\"addresses_balance_greater_0_001_native_units_count\":null,\"addresses_balance_greater_0_01_native_units_count\":null,\"addresses_balance_greater_0_1_native_units_count\":null,\"addresses_balance_greater_1_usd_count\":null,\"addresses_balance_greater_1_native_units_count\":null,\"addresses_balance_greater_10_usd_count\":null,\"addresses_balance_greater_10_native_units_count\":null,\"addresses_balance_greater_100_usd_count\":null,\"addresses_balance_greater_100_native_units_count\":null,\"addresses_balance_greater_100k_usd_count\":null,\"addresses_balance_greater_100k_native_units_count\":null,\"addresses_balance_greater_10k_usd_count\":null,\"addresses_balance_greater_10k_native_units_count\":null,\"addresses_balance_greater_10m_usd_count\":null,\"addresses_balance_greater_1k_usd_count\":null,\"addresses_balance_greater_1k_native_units_count\":null,\"addresses_balance_greater_1m_usd_count\":null,\"addresses_balance_greater_1m_native_units_count\":null,\"average_block_gas_limit\":null,\"block_height\":null,\"average_block_interval\":null,\"blocks_added_last_24_hours\":null,\"block_size_bytes_total\":null,\"block_size_bytes_average\":null,\"uncle_blocks_count_last_24_hours\":null,\"uncle_rewards_last_24_hours_usd\":null,\"uncle_rewards_last_24_hours_native_units\":null,\"mining_revenue_from_uncle_blocks_percent_last_24_hours\":null,\"block_weight\":null,\"average_block_weight\":null,\"total_fees_last_24_hours\":null,\"total_fees_last_24_hours_usd\":null,\"hash_rate\":null,\"issuance_last_24_hours_native_units\":null,\"issuance_rate_daily\":null,\"issuance_total_usd\":null,\"issuance_total_native_units\":null,\"new_issuance\":null,\"issuance_rate\":null,\"realized_marketcap_usd\":null,\"adjusted_nvt\":null,\"adjusted_nvt_90d_moving_average\":null,\"adjusted_rvt\":null,\"adjusted_rvt_90d_moving_average\":null,\"txn_count_last_24_hours\":null,\"txn_contracts_calls_count_last_24_hours\":null,\"txn_contracts_calls_success_count_last_24_hours\":null,\"txn_contracts_creation_count_last_24_hours\":null,\"txn_contracts_destruction_count_last_24_hours\":null,\"txn_contracts_count_last_24_hours\":null,\"txn_erc20_count_last_24_hours\":null,\"txn_erc721_count_last_24_hours\":null,\"txn_per_second_count\":null,\"txn_token_count_last_24_hours\":null,\"average_fee_usd\":null,\"average_fee_native_units\":null,\"median_fee_usd\":null,\"median_fee_native_units\":null,\"average_txn_gas_used\":null,\"txn_gas_limit_last_24_hours\":null,\"average_txn_gas_limit\":null,\"txn_gas_used_last_24_hours\":null,\"transfer_count_last_24_hours\":null,\"transfer_erc_20_count_last_24_hours\":null,\"transfer_erc721_count_last_24_hours\":null,\"txn_volume_last_24_hours_usd\":null,\"adjusted_txn_volume_last_24_hours_usd\":null,\"adjusted_txn_volume_last_24_hours_native_units\":null,\"txn_volume_last_24_hours_native_units\":null,\"average_transfer_value_usd\":null,\"average_transfer_value_native_units\":null,\"median_transfer_value_usd\":null,\"median_transfer_value_native_units\":null,\"average_utxo_age\":null,\"value_weighted_average_utxo_age\":null,\"median_utxo_age\":null,\"utxo_count_last_24_hours\":null,\"utxo_in_loss_count\":null,\"utxo_in_profit_count\":null},\"exchange_flows\":{\"flow_in_exchange_native_units\":null,\"flow_in_exchange_usd\":null,\"flow_in_exchange_native_units_inclusive\":null,\"flow_in_exchange_usd_inclusive\":null,\"flow_out_exchange_native_units\":null,\"flow_out_exchange_usd\":null,\"flow_out_exchange_native_units_inclusive\":null,\"flow_out_exchange_usd_inclusive\":null,\"flow_in_binance_usd\":null,\"flow_in_binance_native_units\":null,\"flow_in_bitfinex_usd\":null,\"flow_in_bitfinex_native_units\":null,\"flow_in_bitmex_usd\":null,\"flow_in_bitmex_native_units\":null,\"flow_in_bitstamp_usd\":null,\"flow_in_bitstamp_native_units\":null,\"flow_in_bittrex_usd\":null,\"flow_in_bittrex_native_units\":null,\"flow_in_gemini_usd\":null,\"flow_in_gemini_native_units\":null,\"flow_in_huobi_usd\":null,\"flow_in_huobi_native_units\":null,\"flow_in_kraken_usd\":null,\"flow_in_kraken_native_units\":null,\"flow_in_poloniex_usd\":null,\"flow_in_poloniex_native_units\":null,\"flow_net_binance_usd\":null,\"flow_net_binance_native_units\":null,\"flow_net_bitfinex_usd\":null,\"flow_net_bitfinex_native_units\":null,\"flow_net_bitmex_usd\":null,\"flow_net_bitmex_native_units\":null,\"flow_net_bitstamp_usd\":null,\"flow_net_bitstamp_native_units\":null,\"flow_net_bittrex_usd\":null,\"flow_net_bittrex_native_units\":null,\"flow_net_gemini_usd\":null,\"flow_net_gemini_native_units\":null,\"flow_net_huobi_usd\":null,\"flow_net_huobi_native_units\":null,\"flow_net_kraken_usd\":null,\"flow_net_kraken_native_units\":null,\"flow_net_poloniex_usd\":null,\"flow_net_poloniex_native_units\":null,\"flow_out_binance_usd\":null,\"flow_out_binance_native_units\":null,\"flow_out_bitfinex_usd\":null,\"flow_out_bitfinex_native_units\":null,\"flow_out_bitmex_usd\":null,\"flow_out_bitmex_native_units\":null,\"flow_out_bitstamp_usd\":null,\"flow_out_bitstamp_native_units\":null,\"flow_out_bittrex_usd\":null,\"flow_out_bittrex_native_units\":null,\"flow_out_gemini_usd\":null,\"flow_out_gemini_native_units\":null,\"flow_out_huobi_usd\":null,\"flow_out_huobi_native_units\":null,\"flow_out_kraken_usd\":null,\"flow_out_kraken_native_units\":null,\"flow_out_poloniex_usd\":null,\"flow_out_poloniex_native_units\":null,\"supply_exchange_native_units\":null,\"supply_exchange_usd\":null,\"supply_binance_usd\":null,\"supply_binance_native_units\":null,\"supply_bitfinex_usd\":null,\"supply_bitfinex_native_units\":null,\"supply_bitmex_usd\":null,\"supply_bitmex_native_units\":null,\"supply_bitstamp_usd\":null,\"supply_bitstamp_native_units\":null,\"supply_bittrex_usd\":null,\"supply_bittrex_native_units\":null,\"supply_gemini_usd\":null,\"supply_gemini_native_units\":null,\"supply_huobi_usd\":null,\"supply_huobi_native_units\":null,\"supply_kraken_usd\":null,\"supply_kraken_native_units\":null,\"supply_poloniex_usd\":null,\"supply_poloniex_native_units\":null},\"miner_flows\":{\"supply_1hop_miners_usd\":null,\"supply_1hop_miners_native_units\":null,\"supply_miners_usd\":null,\"supply_miners_native_units\":null},\"supply_activity\":{\"supply_active_10y\":null,\"supply_active_180d\":null,\"supply_active_1d\":null,\"supply_active_1y\":null,\"supply_active_1y_percent\":null,\"supply_active_2y\":null,\"supply_active_30d\":null,\"supply_active_3y\":null,\"supply_active_4y\":null,\"supply_active_5y\":null,\"supply_active_7d\":null,\"supply_active_90d\":null,\"supply_active_ever\":null,\"outstanding\":null,\"supply_revived_1y\":null,\"supply_revived_2y\":null,\"supply_revived_30d\":null,\"supply_revived_3y\":null,\"supply_revived_4y\":null,\"supply_revived_5y\":null,\"supply_revived_7d\":null,\"supply_revived_90d\":null},\"supply_distribution\":{\"supply_in_addresses_balance_greater_0_001_native_units\":null,\"supply_in_addresses_balance_greater_0_01_native_units\":null,\"supply_in_addresses_balance_greater_0_1_native_units\":null,\"supply_in_addresses_balance_greater_1_usd\":null,\"supply_in_addresses_balance_greater_10_usd\":null,\"supply_in_addresses_balance_greater_100_usd\":null,\"supply_in_addresses_balance_greater_100k_usd\":null,\"supply_in_addresses_balance_greater_100k_native_units\":null,\"supply_in_addresses_balance_greater_100_native_units\":null,\"supply_in_addresses_balance_greater_10k_usd\":null,\"supply_in_addresses_balance_greater_10k_native_units\":null,\"supply_in_addresses_balance_greater_10m_usd\":null,\"supply_in_addresses_balance_greater_10_native_units\":null,\"supply_in_addresses_balance_greater_1k_usd\":null,\"supply_in_addresses_balance_greater_1k_native_units\":null,\"supply_in_addresses_balance_greater_1m_usd\":null,\"supply_in_addresses_balance_greater_1m_native_units\":null,\"supply_in_addresses_balance_greater_1_native_units\":null,\"supply_in_contracts_usd\":null,\"supply_in_contracts_native_units\":null,\"supply_shielded\":null,\"supply_in_top_100_addresses\":null,\"supply_in_top_10_percent_addresses\":null,\"supply_in_top_1_percent_addresses\":null,\"supply_in_utxo_in_loss\":null,\"supply_in_utxo_in_profit\":null},\"alert_messages\":null}}'"
      ]
     },
     "execution_count": 108,
     "metadata": {},
     "output_type": "execute_result"
    }
   ],
   "source": [
    "urllib.request.urlopen(urlH).read()"
   ]
  },
  {
   "cell_type": "code",
   "execution_count": 109,
   "id": "70afd13f",
   "metadata": {},
   "outputs": [],
   "source": [
    "import json"
   ]
  },
  {
   "cell_type": "code",
   "execution_count": 110,
   "id": "0f4df127",
   "metadata": {},
   "outputs": [],
   "source": [
    "H = json.loads(urllib.request.urlopen(urlH).read())['data']['market_data']['price_usd']"
   ]
  },
  {
   "cell_type": "code",
   "execution_count": 111,
   "id": "3b3c01a2",
   "metadata": {},
   "outputs": [
    {
     "name": "stdout",
     "output_type": "stream",
     "text": [
      "0.13973505013062532\n"
     ]
    }
   ],
   "source": [
    "print(H)"
   ]
  },
  {
   "cell_type": "code",
   "execution_count": null,
   "id": "9100e075",
   "metadata": {},
   "outputs": [],
   "source": []
  }
 ],
 "metadata": {
  "kernelspec": {
   "display_name": "Python 3",
   "language": "python",
   "name": "python3"
  },
  "language_info": {
   "codemirror_mode": {
    "name": "ipython",
    "version": 3
   },
   "file_extension": ".py",
   "mimetype": "text/x-python",
   "name": "python",
   "nbconvert_exporter": "python",
   "pygments_lexer": "ipython3",
   "version": "3.8.8"
  }
 },
 "nbformat": 4,
 "nbformat_minor": 5
}
