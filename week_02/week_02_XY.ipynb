{
 "cells": [
  {
   "cell_type": "code",
   "execution_count": 8,
   "id": "c6529f0d",
   "metadata": {},
   "outputs": [],
   "source": [
    "def printPoem(x = 'To whom to tell the'): \n",
    "    a = \"The Path\"\n",
    "    b = \"Is it\"\n",
    "    c = \"the lost\"\n",
    "    d = 35\n",
    "    \n",
    "    print(a.upper())\n",
    "    print('\\n')\n",
    "    if d > 10:\n",
    "      print(\"A little rain with a warm breeze,\")\n",
    "    if d > 20:\n",
    "        print(\"Not afraid of the long way to get to the end.\")\n",
    "        print('\\n')\n",
    "        print('They say difficulties and obstacles,')\n",
    "        print(f'Are just part of {c} journey of life.')\n",
    "        print('\\n')\n",
    "        print(f'{x} laugh; {x} wound?')\n",
    "        print(f'{b} possible? {b} worth it?')\n",
    "        print('\\n')\n",
    "        print('At the moment of looking back,')\n",
    "        print(f'All the stars are guiding {c}.')\n",
    "        print('Across the great river of silence,')\n",
    "        print('To find your guiding star.')"
   ]
  },
  {
   "cell_type": "code",
   "execution_count": 9,
   "id": "91398fc9",
   "metadata": {},
   "outputs": [
    {
     "name": "stdout",
     "output_type": "stream",
     "text": [
      "THE PATH\n",
      "\n",
      "\n",
      "A little rain with a warm breeze,\n",
      "Not afraid of the long way to get to the end.\n",
      "\n",
      "\n",
      "They say difficulties and obstacles,\n",
      "Are just part of the lost journey of life.\n",
      "\n",
      "\n",
      "To whom to tell the laugh; To whom to tell the wound?\n",
      "Is it possible? Is it worth it?\n",
      "\n",
      "\n",
      "At the moment of looking back,\n",
      "All the stars are guiding the lost.\n",
      "Across the great river of silence,\n",
      "To find your guiding star.\n"
     ]
    }
   ],
   "source": [
    "printPoem('To whom to tell the')"
   ]
  }
 ],
 "metadata": {
  "kernelspec": {
   "display_name": "Python 3",
   "language": "python",
   "name": "python3"
  },
  "language_info": {
   "codemirror_mode": {
    "name": "ipython",
    "version": 3
   },
   "file_extension": ".py",
   "mimetype": "text/x-python",
   "name": "python",
   "nbconvert_exporter": "python",
   "pygments_lexer": "ipython3",
   "version": "3.8.8"
  }
 },
 "nbformat": 4,
 "nbformat_minor": 5
}
